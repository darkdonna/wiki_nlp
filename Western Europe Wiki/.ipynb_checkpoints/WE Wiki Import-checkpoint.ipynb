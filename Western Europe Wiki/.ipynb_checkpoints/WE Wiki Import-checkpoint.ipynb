{
 "cells": [
  {
   "cell_type": "markdown",
   "id": "3fddc9d3",
   "metadata": {},
   "source": [
    "# Reading articles from Wikipedia \n",
    "based on the list of names\n",
    "https://pypi.org/project/wikipedia/"
   ]
  },
  {
   "cell_type": "code",
   "execution_count": 1,
   "id": "071ddc25",
   "metadata": {},
   "outputs": [],
   "source": [
    "import wikipedia\n",
    "import pandas as pd\n",
    "import glob\n",
    "import csv\n",
    "import requests"
   ]
  },
  {
   "cell_type": "markdown",
   "id": "31871437",
   "metadata": {},
   "source": [
    "## Scrape articles for Eastern European Female Leaders"
   ]
  },
  {
   "cell_type": "code",
   "execution_count": 3,
   "id": "37a5c709",
   "metadata": {},
   "outputs": [
    {
     "data": {
      "text/html": [
       "<div>\n",
       "<style scoped>\n",
       "    .dataframe tbody tr th:only-of-type {\n",
       "        vertical-align: middle;\n",
       "    }\n",
       "\n",
       "    .dataframe tbody tr th {\n",
       "        vertical-align: top;\n",
       "    }\n",
       "\n",
       "    .dataframe thead th {\n",
       "        text-align: right;\n",
       "    }\n",
       "</style>\n",
       "<table border=\"1\" class=\"dataframe\">\n",
       "  <thead>\n",
       "    <tr style=\"text-align: right;\">\n",
       "      <th></th>\n",
       "      <th>name</th>\n",
       "      <th>country</th>\n",
       "    </tr>\n",
       "  </thead>\n",
       "  <tbody>\n",
       "    <tr>\n",
       "      <th>0</th>\n",
       "      <td>Mahsa Abdolzadeh</td>\n",
       "      <td>Austria</td>\n",
       "    </tr>\n",
       "    <tr>\n",
       "      <th>1</th>\n",
       "      <td>Claudia Arpa</td>\n",
       "      <td>Austria</td>\n",
       "    </tr>\n",
       "    <tr>\n",
       "      <th>2</th>\n",
       "      <td>Christine Aschbacher</td>\n",
       "      <td>Austria</td>\n",
       "    </tr>\n",
       "    <tr>\n",
       "      <th>3</th>\n",
       "      <td>Gertrude Aubauer</td>\n",
       "      <td>Austria</td>\n",
       "    </tr>\n",
       "    <tr>\n",
       "      <th>4</th>\n",
       "      <td>Claudia Bandion-Ortner</td>\n",
       "      <td>Austria</td>\n",
       "    </tr>\n",
       "  </tbody>\n",
       "</table>\n",
       "</div>"
      ],
      "text/plain": [
       "                     name  country\n",
       "0        Mahsa Abdolzadeh  Austria\n",
       "1            Claudia Arpa  Austria\n",
       "2    Christine Aschbacher  Austria\n",
       "3        Gertrude Aubauer  Austria\n",
       "4  Claudia Bandion-Ortner  Austria"
      ]
     },
     "execution_count": 3,
     "metadata": {},
     "output_type": "execute_result"
    }
   ],
   "source": [
    "# Read the list of Women EE names\n",
    "df = pd.read_csv('WE_name_country.csv')\n",
    "df.head()"
   ]
  },
  {
   "cell_type": "code",
   "execution_count": 4,
   "id": "8f69c9b7",
   "metadata": {},
   "outputs": [
    {
     "data": {
      "text/html": [
       "<div>\n",
       "<style scoped>\n",
       "    .dataframe tbody tr th:only-of-type {\n",
       "        vertical-align: middle;\n",
       "    }\n",
       "\n",
       "    .dataframe tbody tr th {\n",
       "        vertical-align: top;\n",
       "    }\n",
       "\n",
       "    .dataframe thead th {\n",
       "        text-align: right;\n",
       "    }\n",
       "</style>\n",
       "<table border=\"1\" class=\"dataframe\">\n",
       "  <thead>\n",
       "    <tr style=\"text-align: right;\">\n",
       "      <th></th>\n",
       "      <th>name</th>\n",
       "    </tr>\n",
       "    <tr>\n",
       "      <th>country</th>\n",
       "      <th></th>\n",
       "    </tr>\n",
       "  </thead>\n",
       "  <tbody>\n",
       "    <tr>\n",
       "      <th>Austria</th>\n",
       "      <td>92</td>\n",
       "    </tr>\n",
       "    <tr>\n",
       "      <th>Belgium</th>\n",
       "      <td>149</td>\n",
       "    </tr>\n",
       "    <tr>\n",
       "      <th>France</th>\n",
       "      <td>490</td>\n",
       "    </tr>\n",
       "    <tr>\n",
       "      <th>Germany</th>\n",
       "      <td>533</td>\n",
       "    </tr>\n",
       "    <tr>\n",
       "      <th>Lienchshtein</th>\n",
       "      <td>14</td>\n",
       "    </tr>\n",
       "    <tr>\n",
       "      <th>Luxembourg</th>\n",
       "      <td>25</td>\n",
       "    </tr>\n",
       "    <tr>\n",
       "      <th>Monaco</th>\n",
       "      <td>11</td>\n",
       "    </tr>\n",
       "    <tr>\n",
       "      <th>Netherlands</th>\n",
       "      <td>218</td>\n",
       "    </tr>\n",
       "    <tr>\n",
       "      <th>Switzerland</th>\n",
       "      <td>136</td>\n",
       "    </tr>\n",
       "  </tbody>\n",
       "</table>\n",
       "</div>"
      ],
      "text/plain": [
       "              name\n",
       "country           \n",
       "Austria         92\n",
       "Belgium        149\n",
       "France         490\n",
       "Germany        533\n",
       "Lienchshtein    14\n",
       "Luxembourg      25\n",
       "Monaco          11\n",
       "Netherlands    218\n",
       "Switzerland    136"
      ]
     },
     "execution_count": 4,
     "metadata": {},
     "output_type": "execute_result"
    }
   ],
   "source": [
    "#Save list of countries\n",
    "country_list = df.country.unique()\n",
    "\n",
    "# Number of articles in initial list by country\n",
    "df.groupby('country').count()"
   ]
  },
  {
   "cell_type": "code",
   "execution_count": 188,
   "id": "c944c234",
   "metadata": {},
   "outputs": [
    {
     "data": {
      "text/plain": [
       "239                 Ewa Janik\n",
       "240               Bogna Janke\n",
       "241        Elżbieta Jankowska\n",
       "242       Małgorzata Janowska\n",
       "243    Izabela Jaruga-Nowacka\n",
       "                ...          \n",
       "305         Alicja Olechowska\n",
       "306        Małgorzata Olejnik\n",
       "307           Halina Olendzka\n",
       "308      Daria Gosek-Popiołek\n",
       "309               Dorota Olko\n",
       "Name: name, Length: 71, dtype: object"
      ]
     },
     "execution_count": 188,
     "metadata": {},
     "output_type": "execute_result"
    }
   ],
   "source": [
    "country = country_list[5]\n",
    "df['name'].iloc[239:][df.country == country]"
   ]
  },
  {
   "cell_type": "code",
   "execution_count": 192,
   "id": "e2930b22",
   "metadata": {},
   "outputs": [
    {
     "name": "stdout",
     "output_type": "stream",
     "text": [
      "Page id \"viktoria kinzburska\" does not match any pages. Try another id!\n",
      "Page id \"anna romanov\" does not match any pages. Try another id!\n",
      "Page id \"kirk rudi\" does not match any pages. Try another id!\n",
      "Articles downloaded: 128\n"
     ]
    }
   ],
   "source": [
    "# Save content of Wiki article pages from the list\n",
    "articles = []\n",
    "\n",
    "# Change country \n",
    "country = country_list[-1]\n",
    "\n",
    "for n in df['name'].iloc[239:][df.country == country]:\n",
    "    try:\n",
    "        page = wikipedia.page(n)\n",
    "    except wikipedia.exceptions.DisambiguationError as e:\n",
    "        print(e.options)\n",
    "    except wikipedia.exceptions.PageError as e:\n",
    "        print(e)\n",
    "    except requests.exceptions.ConnectionError as e:\n",
    "        e.status_code = \"Connection refused\"\n",
    "    else:\n",
    "        text = page.content\n",
    "        # Save only articles that are over 800 symbols\n",
    "        if len(text) > 10:\n",
    "            articles.append(text)\n",
    "print('Articles downloaded:', len(articles))"
   ]
  },
  {
   "cell_type": "code",
   "execution_count": 193,
   "id": "ab014028",
   "metadata": {},
   "outputs": [
    {
     "name": "stdout",
     "output_type": "stream",
     "text": [
      "Articles downloaded: 128\n",
      "First article: Olha Pavlivna Aivazovska (Ukrainian: Ольга Павлівна Айвазовська; born 9 February 1981 in Zalishchyky\n",
      "Last article: Yaryna Bohdanivna Turchyn (Ukrainian: Турчин Ярина Богданівна, born (1975-10-22)October 22, 1975 in \n"
     ]
    }
   ],
   "source": [
    "# How many articles has been downloaded \n",
    "print('Articles downloaded:', len(articles))\n",
    "# what is the first article\n",
    "print('First article:', articles[0][:100])\n",
    "# what is the last article\n",
    "print('Last article:', articles[-1][:100])"
   ]
  },
  {
   "cell_type": "code",
   "execution_count": 194,
   "id": "064b1564",
   "metadata": {},
   "outputs": [],
   "source": [
    "# Save downloaded acticles into CSV file\n",
    "dic = {'articles': articles}\n",
    "articles_df = pd.DataFrame(dic)\n",
    "filename = country +'_articles.csv'\n",
    "articles_df.to_csv('WE_articles/' + filename)"
   ]
  }
 ],
 "metadata": {
  "kernelspec": {
   "display_name": "Python 3 (ipykernel)",
   "language": "python",
   "name": "python3"
  },
  "language_info": {
   "codemirror_mode": {
    "name": "ipython",
    "version": 3
   },
   "file_extension": ".py",
   "mimetype": "text/x-python",
   "name": "python",
   "nbconvert_exporter": "python",
   "pygments_lexer": "ipython3",
   "version": "3.11.5"
  }
 },
 "nbformat": 4,
 "nbformat_minor": 5
}
