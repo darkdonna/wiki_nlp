{
 "cells": [
  {
   "cell_type": "markdown",
   "id": "3fddc9d3",
   "metadata": {},
   "source": [
    "# Reading articles from Wikipedia \n",
    "based on the list of names\n",
    "https://pypi.org/project/wikipedia/"
   ]
  },
  {
   "cell_type": "code",
   "execution_count": 1,
   "id": "071ddc25",
   "metadata": {},
   "outputs": [],
   "source": [
    "import wikipedia\n",
    "import pandas as pd\n",
    "import glob\n",
    "import csv\n",
    "import requests"
   ]
  },
  {
   "cell_type": "code",
   "execution_count": 2,
   "id": "cc0546f5",
   "metadata": {},
   "outputs": [
    {
     "name": "stdout",
     "output_type": "stream",
     "text": [
      "['Women in business', 'Women in India', 'National Association of Women Business Owners', 'Women in Kazakhstan', \"Women's Business Ownership Act\", 'Business and Professional Women', 'Women in Business Romania', 'Women in the workforce', 'Karren Brady', 'Woman-owned business']\n"
     ]
    }
   ],
   "source": [
    "# Search for Wiki articles\n",
    "print(wikipedia.search('Women in business'))"
   ]
  },
  {
   "cell_type": "code",
   "execution_count": 3,
   "id": "ea041f05",
   "metadata": {},
   "outputs": [
    {
     "name": "stdout",
     "output_type": "stream",
     "text": [
      "The phrase women in business refers to women who hold positions, particularly leadership in the fields of commerce, business, and entrepreneurship. It advocates for their increased participation in business. \n",
      "Increased participation of women in business can be important for variation in business development, ideas, and business products.   Participation also encourages the development of social networks and supports that have positive repercussions for women and for their social environment. The status of women in business varies significantly around the world. Sometimes a lack of adequate business capital, female education, and training programs in the use of technology  can mean women are more constrained by their social and political environment than men.The number of female entrepreneurs is increasing around in the country, and the Government generally encouraging this. However, a legacy of historical exclusion and discrimination continues to shape the experiences of women in business today. Women are still underrepresented in many industries and face persistent barriers to advancement and equal pay for equal work.  In PNG nowadays, for example, unequal pay (paying women less when they're doing the same work) is illegal. However, reports indicate that 80% of the companies pay the middle-ranked woman \n",
      "less than the middle-ranked man (a phenomenon known as the \"median pay gap\").\n",
      "\n",
      "\n",
      "== History ==\n",
      "The earliest known well-documented businesswoman is Ancient Sumerian businesswoman Ama-e whom was involved in various trades and real estate investments.Another one of the earliest-known well-documented businesswoman is an Ancient Assyrian businesswoman of the city of Assur named Ahaha. She is known for pursuing the resolution an issue of financial fraud committed against her.\n",
      "\n",
      "\n",
      "== Women in corporate leadership ==\n",
      "As of February 2023, in the US, women hold only 29.2% of senior-level positions in S&P 500 companies, (of which 8.2% are CEO positions). There are approximately 2 women per board; the average S&P 500 board consists of 11 members. This is despite women being 46.8% of the workforce, and controlling more than 50% of personal wealth in the US along with approximately 75% of household spending.As of 2014, only 1% of executive officers and 4.6% of Fortune 500 CEOs were women. In 2015, women held 17.9% of the board seats in Fortune 1000 companies, evidence of disproportionate gender representation on corporate boards of directors. While the number of women on Fortune 500 corporate boards continues to rise, the average rate of increase is only one-half of one percent per year. One in nine corporations on the Fortune 500 list still do not include any women on their board.In 2014, Peterson Institute for International Economics surveyed nearly 22,000 companies across the world. They found almost 60% had no female board members. Just over 50% had no female C-suite executives, and fewer than 5% had a female CEO. The results varied across countries: Norway, Latvia, Slovenia, and Bulgaria had at least 20% female representation at senior executive and board level.  Japan, however, had only 2% female representation at board level and 2.5% at senior executive level.\n",
      "The report on their survey, published in 2016, found having more women in overall executive positions correlated to greater profitability at organizations: \"Going from having no women in corporate leadership (the CEO, the board, and other C-suite positions) to a 30% female share is associated with a one-percentage-point increase in net margin — which translates to a 15% increase in profitability for a typical firm.\"50/50 Women on Boards, established in 2010 to advocate for an increase of female positions at board level and greater board level gender equality, states that as of December 2022 women held only 28.4% of the Russell 3000 Index company board seats, with women of color holding only 7% of seats. The 28.4% figure represents a 1.7 percentage-point increase from December 2021.Catalyst, a US-based non-profit research organization, reported that having a higher percentage of female board directors was positively associated with companies' scores on four of six Corporate Social Performance dimensions: environment, community, customers, and supply chain. Catalyst also found a positive correlation between companies' board diversity and philanthropic giving.  \n",
      "Given the projected talent deficit that will follow the retirement of millions of so-called 'Baby Boomer' managers and executives over the next 20 years, female leaders may be seen by an increasing number of employers as an untapped source of talent, experience and senior-management leadership. However, a 2018 study showed female CEOs are 45% more likely to be fired than their male counterparts, even if they are doing a good job.A 2015 study of 400 female C-suite executives by Ernst & Young and ESPN found that there was a positive correlation between athletics and corporate success. Over 52% of C-suite executives played competitive sports, compared to 39% of women at lower management levels. Of the executives included on Fortune's 2017 list of Most Powerful Women, 65% played competitive sports in high school, college, or both.\n",
      "\n",
      "\n",
      "== Women as entrepreneurs ==\n",
      "In the 59 economies included in the Global Entrepreneurship Monitor research project, female entrepreneurship ranges from just over 1.5% to 45.4% of the adult female population. Although entrepreneurial activity among women is highest in emerging economies (45.5%), the proportion of all female entrepreneurs varies considerably: from 16% in South Korea to 55% in Ghana (the only economy with more female entrepreneurs). Moreover, in many emerging economies, women are now starting a business faster than men, making significant contributions to job creation and economic growth. Women are also more likely to start businesses focused on sustainability.\n",
      "\n",
      "\n",
      "=== Developing countries ===\n",
      "A disproportionate share of female-owned businesses in developing countries today are either small or medium enterprises, which often do not mature as a result of negative growth and poverty. Understanding the specific barriers women's businesses face and providing solutions to address them is necessary to further leverage the economic power of women for growth and the attainment of development goals.\n",
      "\n",
      "\n",
      "==== Nigeria ====\n",
      "Nigeria is currently the leading economy in Africa and holds much potential growth for female entrepreneurs. Women in leadership roles do not significantly differ from men in Nigeria, indicating there is significant growth potential once barriers to entry have been removed.\n",
      "\n",
      "\n",
      "==== Kazakhstan ====\n",
      "The government of Kazakhstan supports the development of female-led small and medium businesses. For example, in cooperation with EBRD, Kazakhstan executes the Women in Business program. The budget of the program is $50 million. Empowerment of Women in the Corporate Sector is an international forum held in Astana, Kazakhstan. 44% of all businesses in Kazakhstan are female-owned and contribute to Kazakhstan's economic development and modernization.In order to support women and women's organizations with a view to sustainable and inclusive development, Kazakhstan held the OSCE-supported Second International Women's Forum on Future Energy: Women, Business, and the Global Economy in August 2017. The conference also focused on the importance of teaching women new technologies as a form of social entrepreneurship.\n",
      "\n",
      "\n",
      "==== Kenya ====\n",
      "Kenya has also seen significant growth for women in business; encouraging entrepreneurship by women has been an important approach to poverty in Kenya. The Kenyan government, with support from NGOs, has created many programs providing access to financial resources, loans, and entrepreneurial education. Two examples are the Women's Enterprise Fund, enacted in 2007, and the creation of the Women's University of Science and Technology. The Women's Enterprise Fund allows women greater access to small loans and financial services, such as bank accounts. The Women's University of Science and Technology, which is the first all-women's university in Kenya, allows women to access higher education and entrepreneurial training. These programs have empowered women to create small to medium-size enterprises, such as tailoring and bead-making. Kenyan society has also seen some shift in women's roles from caretakers to business owners, as called for in Vision 2030 - the Kenyan government's initiative to empower women, to achieve greater gender equality, economic growth, and to alleviate poverty.The barriers women face to becoming entrepreneurs are exemplified through the perspectives of existing female entrepreneurs in Kenya. Mary Okello, the executive director of a cluster of private schools called Makini schools, discussed the difficulty of accessing loans. She explained that a major issue in Kenya was that only 1% of land is owned solely by women which makes it difficult for them to offer a bank  collateral. Another obstacle for women in business is the limited foundational support from the Kenyan government. This is expressed through the experience of Esther Passaris, managing director of Adopt A Light. She recalled that when her organization partnered with the Council, there was no clear and evident framework for the next progressive steps and she felt the government could have provided a more effective way of protecting her business.\n",
      "\n",
      "\n",
      "==== Ghana ====\n",
      "In some other African countries like Ghana, women such as Ayisha Fuseini have benefited from grants and sponsorships from NGOs and big business like Camfed and the MasterCard Foundation's Innovation Bursary Program (IBP) and became entrepreneurs in their own right.\n",
      "\n",
      "\n",
      "==== Thailand ====\n",
      "In Thailand the gender gap in education has reduced. In 2015, women were almost half of the 38.8 million in the labor force: 17.6 million or 45.8 percent were women. Gender equality is guaranteed by the Thai constitution. As a result, Thailand is one of the countries with the highest number of women in management positions. Thailand has 45% more women in CEO positions than the ASEAN countries and China, and 36% of senior managers are women, higher than the G7 countries (21%). Thailand is also one of the world's best-performing countries when it comes to women in senior business roles. The kingdom also has a high workforce participation rate for women: 60.1% in March 2019. Thailand consistently comes in the top five Asia-Pacific countries with the highest number of women in executive roles.\n",
      "\n",
      "\n",
      "=== Developed countries ===\n",
      "\n",
      "\n",
      "==== United Kingdom ====\n",
      "A surge in the number of women starting businesses in the United Kingdom has narrowed the so-called \"enterprise gap\" between male and female company owners in the past decade. The proportion of working-age women going into business rose by 45% in the three-year period between 2013 and 2016, compared with 2003 to 2006, according to a report by Aston University in Birmingham. The share of working-age men going into business increased by 27% during the same period.\n",
      "\n",
      "\n",
      "==== United States ====\n",
      "The number of female-owned businesses in the United States is growing at twice the rate of all firms. As of 2018, around 40% of US firms are majority-owned by women, much higher than most other developed economies. Corporate support for women in business is also on the rise, with small business grants made available to help women in business.Affirmative action has been credited with \"bringing a generation of women into business ownership\" in the United States, following the 1988 Women's Business Ownership Act and subsequent measures.\n",
      "\n",
      "\n",
      "== See also ==\n",
      "Category:Businesswomen\n",
      "Gender representation on corporate boards of directors\n",
      "Diversity, equity, and inclusion programs\n",
      "\n",
      "\n",
      "== References ==\n",
      "\n",
      "\n",
      "== Further reading ==\n",
      "Roger E. Axtell, Tami Briggs, Margaret Corcoran, and Mary Beth Lamb, Do's and Taboos Around the World for Women in Business\n",
      "Douglas Branson, No Seat at the Table: How Corporate Governance and Law Keep Women Out of the Boardroom\n",
      "Christ, M. H. 2016. Women in internal audit: Perspectives from around the world. Altamonte Springs, FL: The IIA Research Foundation 2016.\n",
      "Hine, Darlene Clark. Facts on File Encyclopedia of Black Women in America: Business and Professions (1997)\n",
      "Krismann, Carol. Encyclopedia of American Women in Business From Colonial Times to the Present (2004)\n",
      "Lin Coughlin, Ellen Wingard, and Keith Hollihan, Enlightened Power: How Women are Transforming the Practice of Leadership\n",
      "Harvard Business School Press, editors, Harvard Business Review on Women in Business\n",
      "National Women's Business Council, African American Women-owned Businesses (2012)\n",
      "National Women's Business Council, Women in Business: 2007-2010 (2012)\n",
      "Deborah Rhode, The Difference \"\"Difference\"\" Makes: Women and Leadership (2002)\n",
      "Judy B. Rosener, America's Competitive Secret: Women Managers\n",
      "Robert E. Seiler, Women in the Accounting Profession (1986)\n"
     ]
    }
   ],
   "source": [
    "# Pull contents of a particular page\n",
    "print(wikipedia.page('Women in business').content)"
   ]
  },
  {
   "cell_type": "code",
   "execution_count": 212,
   "id": "53d3c0d4",
   "metadata": {},
   "outputs": [
    {
     "name": "stdout",
     "output_type": "stream",
     "text": [
      "Roger E. Axtell, Tami Briggs, Margaret Corcoran, and Mary Beth Lamb, Do's and Taboos Around the World for Women in Business\n",
      "Douglas Branson, No Seat at the Table: How Corporate Governance and Law Keep Women Out of the Boardroom\n",
      "Christ, M. H. 2016. Women in internal audit: Perspectives from around the world. Altamonte Springs, FL: The IIA Research Foundation 2016.\n",
      "Hine, Darlene Clark. Facts on File Encyclopedia of Black Women in America: Business and Professions (1997)\n",
      "Krismann, Carol. Encyclopedia of American Women in Business From Colonial Times to the Present (2004)\n",
      "Lin Coughlin, Ellen Wingard, and Keith Hollihan, Enlightened Power: How Women are Transforming the Practice of Leadership\n",
      "Harvard Business School Press, editors, Harvard Business Review on Women in Business\n",
      "National Women's Business Council, African American Women-owned Businesses (2012)\n",
      "National Women's Business Council, Women in Business: 2007-2010 (2012)\n",
      "Deborah Rhode, The Difference \"\"Difference\"\" Makes: Women and Leadership (2002)\n",
      "Judy B. Rosener, America's Competitive Secret: Women Managers\n",
      "Robert E. Seiler, Women in the Accounting Profession (1986)\n"
     ]
    }
   ],
   "source": [
    "# Pull contents of a particular section of a page\n",
    "print(wikipedia.page('Women in business').section('Further reading'))"
   ]
  },
  {
   "cell_type": "code",
   "execution_count": 11,
   "id": "faa5df9b",
   "metadata": {},
   "outputs": [
    {
     "name": "stdout",
     "output_type": "stream",
     "text": [
      "['21st-century American businesspeople', '21st-century American women by occupation', '21st-century businesswomen', 'American women in business', 'CatAutoTOC generates standard Category TOC', 'Template Category TOC via CatAutoTOC on category with 601–900 pages', 'Wikipedia non-diffusing subcategories']\n"
     ]
    }
   ],
   "source": [
    "# Pull names of categories for a page\n",
    "print(wikipedia.page(title = 'Category:21st-century_American_businesswomen').categories)"
   ]
  },
  {
   "cell_type": "markdown",
   "id": "31871437",
   "metadata": {},
   "source": [
    "## Scrape articles for American Women Chief Executives"
   ]
  },
  {
   "cell_type": "code",
   "execution_count": 125,
   "id": "37a5c709",
   "metadata": {},
   "outputs": [
    {
     "data": {
      "text/html": [
       "<div>\n",
       "<style scoped>\n",
       "    .dataframe tbody tr th:only-of-type {\n",
       "        vertical-align: middle;\n",
       "    }\n",
       "\n",
       "    .dataframe tbody tr th {\n",
       "        vertical-align: top;\n",
       "    }\n",
       "\n",
       "    .dataframe thead th {\n",
       "        text-align: right;\n",
       "    }\n",
       "</style>\n",
       "<table border=\"1\" class=\"dataframe\">\n",
       "  <thead>\n",
       "    <tr style=\"text-align: right;\">\n",
       "      <th></th>\n",
       "      <th>name</th>\n",
       "      <th>country</th>\n",
       "    </tr>\n",
       "  </thead>\n",
       "  <tbody>\n",
       "    <tr>\n",
       "      <th>0</th>\n",
       "      <td>Sviatlana Tsikhanouskaya</td>\n",
       "      <td>Belarus</td>\n",
       "    </tr>\n",
       "    <tr>\n",
       "      <th>1</th>\n",
       "      <td>Olga Abramova (politician)</td>\n",
       "      <td>Belarus</td>\n",
       "    </tr>\n",
       "    <tr>\n",
       "      <th>2</th>\n",
       "      <td>Alena Anisim</td>\n",
       "      <td>Belarus</td>\n",
       "    </tr>\n",
       "    <tr>\n",
       "      <th>3</th>\n",
       "      <td>Natallia Eismant</td>\n",
       "      <td>Belarus</td>\n",
       "    </tr>\n",
       "    <tr>\n",
       "      <th>4</th>\n",
       "      <td>Maria Kalesnikava</td>\n",
       "      <td>Belarus</td>\n",
       "    </tr>\n",
       "  </tbody>\n",
       "</table>\n",
       "</div>"
      ],
      "text/plain": [
       "                         name   country\n",
       "0    Sviatlana Tsikhanouskaya  Belarus \n",
       "1  Olga Abramova (politician)  Belarus \n",
       "2                Alena Anisim  Belarus \n",
       "3            Natallia Eismant  Belarus \n",
       "4           Maria Kalesnikava  Belarus "
      ]
     },
     "execution_count": 125,
     "metadata": {},
     "output_type": "execute_result"
    }
   ],
   "source": [
    "# Read the list of Women EE names\n",
    "df = pd.read_csv('EE_name_country.csv', names = ['name', 'country'])\n",
    "df.head()"
   ]
  },
  {
   "cell_type": "code",
   "execution_count": 127,
   "id": "0580fb64",
   "metadata": {},
   "outputs": [
    {
     "data": {
      "text/html": [
       "<div>\n",
       "<style scoped>\n",
       "    .dataframe tbody tr th:only-of-type {\n",
       "        vertical-align: middle;\n",
       "    }\n",
       "\n",
       "    .dataframe tbody tr th {\n",
       "        vertical-align: top;\n",
       "    }\n",
       "\n",
       "    .dataframe thead th {\n",
       "        text-align: right;\n",
       "    }\n",
       "</style>\n",
       "<table border=\"1\" class=\"dataframe\">\n",
       "  <thead>\n",
       "    <tr style=\"text-align: right;\">\n",
       "      <th></th>\n",
       "      <th>name</th>\n",
       "    </tr>\n",
       "    <tr>\n",
       "      <th>country</th>\n",
       "      <th></th>\n",
       "    </tr>\n",
       "  </thead>\n",
       "  <tbody>\n",
       "    <tr>\n",
       "      <th>Belarus</th>\n",
       "      <td>15</td>\n",
       "    </tr>\n",
       "    <tr>\n",
       "      <th>Bulgaria</th>\n",
       "      <td>22</td>\n",
       "    </tr>\n",
       "    <tr>\n",
       "      <th>CZ</th>\n",
       "      <td>15</td>\n",
       "    </tr>\n",
       "    <tr>\n",
       "      <th>Hungary</th>\n",
       "      <td>57</td>\n",
       "    </tr>\n",
       "    <tr>\n",
       "      <th>Moldova</th>\n",
       "      <td>59</td>\n",
       "    </tr>\n",
       "    <tr>\n",
       "      <th>Poland</th>\n",
       "      <td>142</td>\n",
       "    </tr>\n",
       "    <tr>\n",
       "      <th>RU</th>\n",
       "      <td>173</td>\n",
       "    </tr>\n",
       "    <tr>\n",
       "      <th>Romania</th>\n",
       "      <td>54</td>\n",
       "    </tr>\n",
       "    <tr>\n",
       "      <th>Ukraine</th>\n",
       "      <td>131</td>\n",
       "    </tr>\n",
       "  </tbody>\n",
       "</table>\n",
       "</div>"
      ],
      "text/plain": [
       "          name\n",
       "country       \n",
       "Belarus     15\n",
       "Bulgaria    22\n",
       "CZ          15\n",
       "Hungary     57\n",
       "Moldova     59\n",
       "Poland     142\n",
       "RU         173\n",
       "Romania     54\n",
       "Ukraine    131"
      ]
     },
     "execution_count": 127,
     "metadata": {},
     "output_type": "execute_result"
    }
   ],
   "source": [
    "#Save list of countries\n",
    "country_list = df.country.unique()\n",
    "\n",
    "# Number of articles in initial list by country\n",
    "df.groupby('country').count()"
   ]
  },
  {
   "cell_type": "code",
   "execution_count": 188,
   "id": "c944c234",
   "metadata": {},
   "outputs": [
    {
     "data": {
      "text/plain": [
       "239                 Ewa Janik\n",
       "240               Bogna Janke\n",
       "241        Elżbieta Jankowska\n",
       "242       Małgorzata Janowska\n",
       "243    Izabela Jaruga-Nowacka\n",
       "                ...          \n",
       "305         Alicja Olechowska\n",
       "306        Małgorzata Olejnik\n",
       "307           Halina Olendzka\n",
       "308      Daria Gosek-Popiołek\n",
       "309               Dorota Olko\n",
       "Name: name, Length: 71, dtype: object"
      ]
     },
     "execution_count": 188,
     "metadata": {},
     "output_type": "execute_result"
    }
   ],
   "source": [
    "country = country_list[5]\n",
    "df['name'].iloc[239:][df.country == country]"
   ]
  },
  {
   "cell_type": "code",
   "execution_count": 192,
   "id": "e2930b22",
   "metadata": {},
   "outputs": [
    {
     "name": "stdout",
     "output_type": "stream",
     "text": [
      "Page id \"viktoria kinzburska\" does not match any pages. Try another id!\n",
      "Page id \"anna romanov\" does not match any pages. Try another id!\n",
      "Page id \"kirk rudi\" does not match any pages. Try another id!\n",
      "Articles downloaded: 128\n"
     ]
    }
   ],
   "source": [
    "# Save content of Wiki article pages from the list\n",
    "articles = []\n",
    "\n",
    "# Change country \n",
    "country = country_list[-1]\n",
    "\n",
    "for n in df['name'].iloc[239:][df.country == country]:\n",
    "    try:\n",
    "        page = wikipedia.page(n)\n",
    "    except wikipedia.exceptions.DisambiguationError as e:\n",
    "        print(e.options)\n",
    "    except wikipedia.exceptions.PageError as e:\n",
    "        print(e)\n",
    "    except requests.exceptions.ConnectionError as e:\n",
    "        e.status_code = \"Connection refused\"\n",
    "    else:\n",
    "        text = page.content\n",
    "        # Save only articles that are over 800 symbols\n",
    "        if len(text) > 10:\n",
    "            articles.append(text)\n",
    "print('Articles downloaded:', len(articles))"
   ]
  },
  {
   "cell_type": "code",
   "execution_count": 193,
   "id": "ab014028",
   "metadata": {},
   "outputs": [
    {
     "name": "stdout",
     "output_type": "stream",
     "text": [
      "Articles downloaded: 128\n",
      "First article: Olha Pavlivna Aivazovska (Ukrainian: Ольга Павлівна Айвазовська; born 9 February 1981 in Zalishchyky\n",
      "Last article: Yaryna Bohdanivna Turchyn (Ukrainian: Турчин Ярина Богданівна, born (1975-10-22)October 22, 1975 in \n"
     ]
    }
   ],
   "source": [
    "# How many articles has been downloaded \n",
    "print('Articles downloaded:', len(articles))\n",
    "# what is the first article\n",
    "print('First article:', articles[0][:100])\n",
    "# what is the last article\n",
    "print('Last article:', articles[-1][:100])"
   ]
  },
  {
   "cell_type": "code",
   "execution_count": 194,
   "id": "064b1564",
   "metadata": {},
   "outputs": [],
   "source": [
    "# Save downloaded acticles into CSV file\n",
    "dic = {'articles': articles}\n",
    "articles_df = pd.DataFrame(dic)\n",
    "filename = country +'_articles.csv'\n",
    "articles_df.to_csv('EE_articles/' + filename)"
   ]
  },
  {
   "cell_type": "markdown",
   "id": "df4ae0e0",
   "metadata": {},
   "source": [
    "## Importing saved articles"
   ]
  },
  {
   "cell_type": "code",
   "execution_count": 195,
   "id": "7dddb451",
   "metadata": {},
   "outputs": [
    {
     "name": "stdout",
     "output_type": "stream",
     "text": [
      "Number of articles: 655\n"
     ]
    }
   ],
   "source": [
    "# Import all CSV files from all Wiki articles and save them to one list\n",
    "files = glob.glob(\"EE_articles/*.csv\")\n",
    "\n",
    "all_articles = []\n",
    "\n",
    "for file in files:\n",
    "    read_handle = open(file, \"r\")\n",
    "    text = list(csv.reader(read_handle, delimiter=\",\"))        \n",
    "    for article in text[1:]:\n",
    "        all_articles.append(article[1])     \n",
    "\n",
    "# How many articles has been read\n",
    "print('Number of articles:', len(all_articles))\n",
    "#articles[:3]"
   ]
  },
  {
   "cell_type": "markdown",
   "id": "624a26a4",
   "metadata": {},
   "source": [
    "## Cleaning and tokenisation\n",
    "- Removing headers - https://www.w3schools.com/python/python_regex.asp\n",
    "- Removing stop words and numbers\n",
    "- Stemming and lemmitisation\n",
    "- Tokenisation"
   ]
  },
  {
   "cell_type": "code",
   "execution_count": 59,
   "id": "c3b8083b",
   "metadata": {},
   "outputs": [],
   "source": [
    "import re\n",
    "from gensim.utils import simple_preprocess\n",
    "from nltk.corpus import stopwords\n",
    "from nltk.stem import WordNetLemmatizer"
   ]
  },
  {
   "cell_type": "code",
   "execution_count": 196,
   "id": "77172c68",
   "metadata": {},
   "outputs": [
    {
     "name": "stdout",
     "output_type": "stream",
     "text": [
      "Tokens groups: 655 \n",
      "\n",
      "-No-   --Tokens--\n",
      "  1       289\n",
      "  2        31\n",
      "  3       106\n",
      "  4       444\n",
      "  5       105\n",
      "  6        42\n",
      "  7       636\n",
      "  8       343\n",
      "  9       232\n",
      " 10        97\n",
      " 11       748\n",
      " 12        56\n",
      " 13        16\n",
      " 14       396\n",
      " 15       158\n"
     ]
    }
   ],
   "source": [
    "# Based on https://www.geeksforgeeks.org/nlp-gensim-tutorial-complete-guide-for-beginners/\n",
    "\n",
    "all_tokens = []\n",
    "\n",
    "# import stopwords\n",
    "stop_words = stopwords.words('english')\n",
    "wnl = WordNetLemmatizer()\n",
    "\n",
    "# Check for latin alphabet \n",
    "# https://stackoverflow.com/questions/27084617/detect-strings-with-non-english-characters-in-python\n",
    "def isEnglish(s):\n",
    "    try:\n",
    "        s.encode(encoding='utf-8').decode('ascii')\n",
    "    except UnicodeDecodeError:\n",
    "        return False\n",
    "    else:\n",
    "        return True\n",
    "\n",
    "\n",
    "for article in all_articles:\n",
    "    # Removing section headers and new line breaks\n",
    "    text = re.sub(\"==.*==\",'', article)\n",
    "    text = re.sub(\"\\n\",'', text)\n",
    "    \n",
    "    # Convert a document into a list of tokens \n",
    "    # This lowercases, tokenizes, removes numerical values\n",
    "    tokens = simple_preprocess(text)\n",
    "    \n",
    "    doc_out = []\n",
    "    for word in tokens:    \n",
    "        if word not in stop_words:  # to remove stopwords\n",
    "            if isEnglish(word):\n",
    "                Lemmatized_Word = wnl.lemmatize(word)  # lemmatize\n",
    "                doc_out.append(Lemmatized_Word)\n",
    "    \n",
    "    all_tokens.append(doc_out)\n",
    "\n",
    "# Print out infromation about articles and number of tokens for top 15\n",
    "print('Tokens groups:', len(all_tokens),'\\n')\n",
    "print(\"{0:7}{1:10}\".format(\"-No-\",\"--Tokens--\"))\n",
    "for x, tokens in enumerate(all_tokens[:15]):\n",
    "    print(\"{0:3}{1:10}\".format(x + 1, len(tokens)))"
   ]
  },
  {
   "cell_type": "markdown",
   "id": "eb80f159",
   "metadata": {},
   "source": [
    "# Dictionary - Corpus - LDA"
   ]
  },
  {
   "cell_type": "code",
   "execution_count": 103,
   "id": "1689761c",
   "metadata": {},
   "outputs": [],
   "source": [
    "from gensim.corpora.dictionary import Dictionary\n",
    "from gensim.corpora import MmCorpus\n",
    "from gensim.models import LdaModel, LdaMulticore, CoherenceModel\n",
    "import matplotlib.pyplot as plt"
   ]
  },
  {
   "cell_type": "code",
   "execution_count": 201,
   "id": "6643b3d4",
   "metadata": {},
   "outputs": [
    {
     "name": "stdout",
     "output_type": "stream",
     "text": [
      "Dictionary length: 1339\n",
      "Top 20 tokens by frequency\n",
      "\n",
      "1. ukraine - 1402\n",
      "2. russian - 1355\n",
      "3. party - 1347\n",
      "4. state - 1161\n",
      "5. ukrainian - 1110\n",
      "6. election - 1105\n",
      "7. deputy - 1009\n",
      "8. minister - 821\n",
      "9. european - 803\n",
      "10. president - 753\n",
      "11. also - 734\n",
      "12. russia - 734\n",
      "13. national - 721\n",
      "14. committee - 719\n",
      "15. elected - 716\n",
      "16. parliament - 704\n",
      "17. parliamentary - 679\n",
      "18. university - 663\n",
      "19. became - 567\n",
      "20. year - 560\n",
      "\n",
      "Corpus length: 655\n"
     ]
    }
   ],
   "source": [
    "# create dictionary - a map of unique tokens\n",
    "dictionary = Dictionary(all_tokens)\n",
    "dictionary.filter_extremes(no_below = 15, no_above = 0.7)\n",
    "print('Dictionary length:', len(dictionary.keys()))\n",
    "\n",
    "# 100 tokens by frequency for cleaned up dictionary\n",
    "new_t_most_freq = dictionary.most_common(100)\n",
    "print('Top 20 tokens by frequency\\n')\n",
    "\n",
    "num = 1\n",
    "for t, f in new_t_most_freq[:20]:\n",
    "    print(str(num) + '.', t, '-', f)\n",
    "    num = num + 1\n",
    "\n",
    "\n",
    "# Create a MmCorpus: corpus\n",
    "corpus = [dictionary.doc2bow(token) for token in all_tokens]\n",
    "print('\\nCorpus length:', len(corpus))"
   ]
  },
  {
   "cell_type": "code",
   "execution_count": 296,
   "id": "2bb615bd",
   "metadata": {},
   "outputs": [],
   "source": [
    "# save dictionary to disk\n",
    "dictionary.save('Wiki_dictionary.dict')\n",
    "\n",
    "# save corpus to disk\n",
    "MmCorpus.serialize(\"Wiki_corpus.mm\", corpus)"
   ]
  },
  {
   "cell_type": "markdown",
   "id": "a9e7c5f3",
   "metadata": {},
   "source": [
    "## TF-IDF"
   ]
  },
  {
   "cell_type": "code",
   "execution_count": 105,
   "id": "81802879",
   "metadata": {},
   "outputs": [],
   "source": [
    "from gensim.models.tfidfmodel import TfidfModel\n",
    "from gensim.models.phrases import Phrases, ENGLISH_CONNECTOR_WORDS"
   ]
  },
  {
   "cell_type": "code",
   "execution_count": 202,
   "id": "ec9577c4",
   "metadata": {},
   "outputs": [],
   "source": [
    "# Term frequency - inverse document frequency model\n",
    "tfidf = TfidfModel(corpus)"
   ]
  },
  {
   "cell_type": "code",
   "execution_count": 203,
   "id": "7734c72c",
   "metadata": {},
   "outputs": [
    {
     "name": "stdout",
     "output_type": "stream",
     "text": [
      "\n",
      "Top-10 tokens for article No 87 \n",
      "\n",
      "moldova        0.6224351539558823\n",
      "judge          0.3767640762765586\n",
      "lawyer         0.3346266050167051\n",
      "court          0.24184508916144154\n",
      "jurist         0.1821387024914272\n",
      "republic       0.16931240645894055\n",
      "parliamentary  0.15275787175852834\n",
      "constitutional 0.14905253723405457\n",
      "appointment    0.1461174799751714\n",
      "period         0.1394567227916222\n"
     ]
    }
   ],
   "source": [
    "article = 87\n",
    "print('\\nTop-10 tokens for article No', article, '\\n')\n",
    "tfidf_int = tfidf[corpus[(article - 1)]]\n",
    "\n",
    "# Sort the weights from highest to lowest: sorted_tfidf_weights\n",
    "sorted_tfidf_weights = sorted(tfidf_int, key=lambda w: w[1], reverse=True)\n",
    "\n",
    "# Print the top 10 weighted words\n",
    "for term_id, weight in sorted_tfidf_weights[:10]:\n",
    "    print(\"{0:15}{1:10}\".format(dictionary.get(term_id), weight))"
   ]
  },
  {
   "cell_type": "markdown",
   "id": "287a3d20",
   "metadata": {},
   "source": [
    "### Bigrams"
   ]
  },
  {
   "cell_type": "code",
   "execution_count": 204,
   "id": "0bc5d7ed",
   "metadata": {},
   "outputs": [
    {
     "name": "stdout",
     "output_type": "stream",
     "text": [
      "Phrases<129526 vocab, min_count=10, threshold=50, max_vocab_size=40000000>\n"
     ]
    }
   ],
   "source": [
    "# Train a toy phrase model on our training corpus.\n",
    "phrase_model = Phrases(all_tokens, min_count = 10, threshold = 50, connector_words = ENGLISH_CONNECTOR_WORDS)\n",
    "\n",
    "print(phrase_model)\n",
    "\n",
    "# Finding bigrams in the interview \n",
    "bigrams = phrase_model.find_phrases(all_tokens)"
   ]
  },
  {
   "cell_type": "code",
   "execution_count": 206,
   "id": "812a00fb",
   "metadata": {},
   "outputs": [
    {
     "data": {
      "text/html": [
       "<div>\n",
       "<style scoped>\n",
       "    .dataframe tbody tr th:only-of-type {\n",
       "        vertical-align: middle;\n",
       "    }\n",
       "\n",
       "    .dataframe tbody tr th {\n",
       "        vertical-align: top;\n",
       "    }\n",
       "\n",
       "    .dataframe thead th {\n",
       "        text-align: right;\n",
       "    }\n",
       "</style>\n",
       "<table border=\"1\" class=\"dataframe\">\n",
       "  <thead>\n",
       "    <tr style=\"text-align: right;\">\n",
       "      <th></th>\n",
       "      <th>bigram</th>\n",
       "      <th>score</th>\n",
       "    </tr>\n",
       "  </thead>\n",
       "  <tbody>\n",
       "    <tr>\n",
       "      <th>0</th>\n",
       "      <td>kluzik_rostkowska</td>\n",
       "      <td>3029.847953</td>\n",
       "    </tr>\n",
       "    <tr>\n",
       "      <th>1</th>\n",
       "      <td>katser_buchkovska</td>\n",
       "      <td>2698.458333</td>\n",
       "    </tr>\n",
       "    <tr>\n",
       "      <th>2</th>\n",
       "      <td>gronkiewicz_waltz</td>\n",
       "      <td>2502.917874</td>\n",
       "    </tr>\n",
       "    <tr>\n",
       "      <th>3</th>\n",
       "      <td>ivano_frankivsk</td>\n",
       "      <td>2299.278107</td>\n",
       "    </tr>\n",
       "    <tr>\n",
       "      <th>4</th>\n",
       "      <td>donald_tusk</td>\n",
       "      <td>2055.968254</td>\n",
       "    </tr>\n",
       "    <tr>\n",
       "      <th>5</th>\n",
       "      <td>nizhny_novgorod</td>\n",
       "      <td>1962.515152</td>\n",
       "    </tr>\n",
       "    <tr>\n",
       "      <th>6</th>\n",
       "      <td>liliia_hrynevych</td>\n",
       "      <td>1644.774603</td>\n",
       "    </tr>\n",
       "    <tr>\n",
       "      <th>7</th>\n",
       "      <td>sasha_bezuhanova</td>\n",
       "      <td>1555.867868</td>\n",
       "    </tr>\n",
       "    <tr>\n",
       "      <th>8</th>\n",
       "      <td>record_transcript</td>\n",
       "      <td>1530.223323</td>\n",
       "    </tr>\n",
       "    <tr>\n",
       "      <th>9</th>\n",
       "      <td>petro_poroshenko</td>\n",
       "      <td>1484.762594</td>\n",
       "    </tr>\n",
       "    <tr>\n",
       "      <th>10</th>\n",
       "      <td>real_estate</td>\n",
       "      <td>1446.063796</td>\n",
       "    </tr>\n",
       "    <tr>\n",
       "      <th>11</th>\n",
       "      <td>dmitry_medvedev</td>\n",
       "      <td>1439.177778</td>\n",
       "    </tr>\n",
       "    <tr>\n",
       "      <th>12</th>\n",
       "      <td>khatia_dekanoidze</td>\n",
       "      <td>1428.595588</td>\n",
       "    </tr>\n",
       "    <tr>\n",
       "      <th>13</th>\n",
       "      <td>wayback_machine</td>\n",
       "      <td>1407.891304</td>\n",
       "    </tr>\n",
       "    <tr>\n",
       "      <th>14</th>\n",
       "      <td>klaus_iohannis</td>\n",
       "      <td>1349.229167</td>\n",
       "    </tr>\n",
       "  </tbody>\n",
       "</table>\n",
       "</div>"
      ],
      "text/plain": [
       "               bigram        score\n",
       "0   kluzik_rostkowska  3029.847953\n",
       "1   katser_buchkovska  2698.458333\n",
       "2   gronkiewicz_waltz  2502.917874\n",
       "3     ivano_frankivsk  2299.278107\n",
       "4         donald_tusk  2055.968254\n",
       "5     nizhny_novgorod  1962.515152\n",
       "6    liliia_hrynevych  1644.774603\n",
       "7    sasha_bezuhanova  1555.867868\n",
       "8   record_transcript  1530.223323\n",
       "9    petro_poroshenko  1484.762594\n",
       "10        real_estate  1446.063796\n",
       "11    dmitry_medvedev  1439.177778\n",
       "12  khatia_dekanoidze  1428.595588\n",
       "13    wayback_machine  1407.891304\n",
       "14     klaus_iohannis  1349.229167"
      ]
     },
     "execution_count": 206,
     "metadata": {},
     "output_type": "execute_result"
    }
   ],
   "source": [
    "#Saving Bigrams as a dictionary\n",
    "bigrams_dic = {'bigram': [], 'score': []}\n",
    "for i in bigrams:\n",
    "    bigrams_dic['bigram'].append(i)\n",
    "    bigrams_dic['score'].append(bigrams[i])\n",
    "bigrams_df = pd.DataFrame(bigrams_dic)\n",
    "bigrams_df = bigrams_df.sort_values( by = ['score'], ascending = False)\n",
    "bigrams_df = bigrams_df.reset_index(drop=True)\n",
    "\n",
    "# Write bigrams to a CSV\n",
    "bigrams_df.to_csv('output/ee_full_wiki_bigrams.csv')\n",
    "# Showing top 15 bigrams for all articles\n",
    "bigrams_df.head(15)"
   ]
  },
  {
   "cell_type": "markdown",
   "id": "7be9f5f0",
   "metadata": {},
   "source": [
    "### Trigrams"
   ]
  },
  {
   "cell_type": "code",
   "execution_count": 207,
   "id": "6baf7dcb",
   "metadata": {},
   "outputs": [
    {
     "name": "stdout",
     "output_type": "stream",
     "text": [
      "Total number of documents with trigrams: 381\n",
      "Number of unique trigrams: 60\n",
      "\n",
      "Top 20 trigrams by frequency\n",
      "\n",
      "1. verkhovna_rada_ukraine - 59\n",
      "2. th_state_duma - 55\n",
      "3. united_russia_party - 53\n",
      "4. russian_invasion_ukraine - 47\n",
      "5. relation_russo_ukrainian - 43\n",
      "6. deputy_prime_minister - 40\n",
      "7. sanctioned_uk_government - 40\n",
      "8. russian_political_figure - 36\n",
      "9. deputy_state_duma - 34\n",
      "10. social_democratic_party - 33\n",
      "11. september_getting_vote - 31\n",
      "12. ukrainian_presidential_election - 31\n",
      "13. elected_verkhovna_rada - 30\n",
      "14. tara_shevchenko_national - 27\n",
      "15. national_assembly_mp - 25\n",
      "16. president_vladimir_putin - 24\n",
      "17. inter_parliamentary_relation - 24\n",
      "18. committee_foreign_affair - 23\n",
      "19. petro_poroshenko_bloc - 23\n",
      "20. foreign_affair_minister - 21\n"
     ]
    }
   ],
   "source": [
    "# Train trigram model on all tockets\n",
    "trigram  = Phrases(phrase_model[all_tokens], min_count = 10)\n",
    "#print(trigram)\n",
    "\n",
    "# Create a list of all trigrams\n",
    "trigram_list = []\n",
    "for token in all_tokens:\n",
    "    trigrams_ = [t for t in trigram[phrase_model[token]] if t.count('_')==2]\n",
    "    if len(trigrams_) > 0:\n",
    "        trigram_list.append(trigrams_) \n",
    "    \n",
    "print('Total number of documents with trigrams:', len(trigram_list))\n",
    "\n",
    "# create dictionary of trigrams\n",
    "trigram_dic = Dictionary(trigram_list)\n",
    "print('Number of unique trigrams:', len(trigram_dic.keys()))\n",
    "\n",
    "# Top 100 tigrams by frequency in all articles\n",
    "trigram_most_freq = trigram_dic.most_common(100)\n",
    "print('\\nTop 20 trigrams by frequency\\n')\n",
    "\n",
    "num = 1\n",
    "for t, f in trigram_most_freq[:20]:\n",
    "    print(str(num) + '.', t, '-', f)\n",
    "    num = num + 1"
   ]
  },
  {
   "cell_type": "markdown",
   "id": "57163203",
   "metadata": {},
   "source": [
    "## LDA"
   ]
  },
  {
   "cell_type": "code",
   "execution_count": 219,
   "id": "38311887",
   "metadata": {},
   "outputs": [
    {
     "name": "stdout",
     "output_type": "stream",
     "text": [
      "Topic: 0 \n",
      "Words: 0.024*\"polish\" + 0.016*\"sejm\" + 0.016*\"election\" + 0.015*\"party\" + 0.014*\"elected\" + 0.011*\"vote\" + 0.011*\"poland\" + 0.009*\"parliamentary\" + 0.008*\"candidate\" + 0.007*\"also\"\n",
      "Topic: 1 \n",
      "Words: 0.018*\"european\" + 0.012*\"party\" + 0.011*\"parliament\" + 0.010*\"right\" + 0.009*\"also\" + 0.008*\"president\" + 0.007*\"moldova\" + 0.007*\"election\" + 0.007*\"foreign\" + 0.007*\"russian\"\n",
      "Topic: 2 \n",
      "Words: 0.044*\"russian\" + 0.031*\"state\" + 0.023*\"deputy\" + 0.020*\"russia\" + 0.019*\"duma\" + 0.013*\"th\" + 0.010*\"elected\" + 0.010*\"united\" + 0.009*\"party\" + 0.008*\"council\"\n",
      "Topic: 3 \n",
      "Words: 0.016*\"minister\" + 0.013*\"european\" + 0.012*\"party\" + 0.010*\"committee\" + 0.010*\"woman\" + 0.010*\"president\" + 0.010*\"parliament\" + 0.010*\"romanian\" + 0.008*\"served\" + 0.007*\"deputy\"\n",
      "Topic: 4 \n",
      "Words: 0.043*\"ukraine\" + 0.033*\"ukrainian\" + 0.012*\"deputy\" + 0.011*\"rada\" + 0.010*\"verkhovna\" + 0.010*\"people\" + 0.010*\"kyiv\" + 0.010*\"party\" + 0.009*\"election\" + 0.009*\"law\"\n",
      "Topic: 5 \n",
      "Words: 0.018*\"election\" + 0.013*\"party\" + 0.010*\"parliamentary\" + 0.010*\"national\" + 0.009*\"president\" + 0.009*\"ukraine\" + 0.009*\"minister\" + 0.008*\"government\" + 0.007*\"also\" + 0.007*\"committee\"\n"
     ]
    }
   ],
   "source": [
    "# Train our lda model\n",
    "lda_model = LdaModel(corpus, num_topics = 6, iterations = 10, \n",
    "                     id2word=dictionary, passes = 10, random_state = 100)\n",
    "\n",
    "# For each topic, we will explore the words occuring in that topic and its relative weight.\n",
    "for idx, topic in lda_model.print_topics(-1):\n",
    "    print('Topic: {} \\nWords: {}'.format(idx, topic))"
   ]
  },
  {
   "cell_type": "code",
   "execution_count": 217,
   "id": "152486d6",
   "metadata": {},
   "outputs": [
    {
     "data": {
      "text/plain": [
       "[(0, 0.010418119),\n",
       " (1, 0.010418118),\n",
       " (2, 0.010418108),\n",
       " (3, 0.01041811),\n",
       " (4, 0.010418115),\n",
       " (5, 0.010418121),\n",
       " (6, 0.010418113),\n",
       " (7, 0.0104181105),\n",
       " (8, 0.46593794),\n",
       " (9, 0.010418114),\n",
       " (10, 0.38820848),\n",
       " (11, 0.010418118),\n",
       " (12, 0.0104181105),\n",
       " (13, 0.01041811),\n",
       " (14, 0.010418117),\n",
       " (15, 0.010418108)]"
      ]
     },
     "execution_count": 217,
     "metadata": {},
     "output_type": "execute_result"
    }
   ],
   "source": [
    "query = 'Leadership is the ability of an individual or a group of people to influence and guide followers or members of an organization, society or team.'\n",
    "vec_bow = dictionary.doc2bow(query.lower().split())\n",
    "\n",
    "# convert the query to LSI space\n",
    "vec_lda = lda_model[vec_bow]  \n",
    "# This shows how the query relates to the topics\n",
    "vec_lda"
   ]
  },
  {
   "cell_type": "code",
   "execution_count": 178,
   "id": "c4caa17f",
   "metadata": {},
   "outputs": [],
   "source": [
    "# probability of a word belonging to a topic\n",
    "test_words = ['leader']\n",
    "for topic, prob in lda_model.get_term_topics(test_words):\n",
    "     print('Word:', test_words, ' - belongs to\\nTopic: {} \\nProbability: {}'.format(topic, prob))"
   ]
  },
  {
   "cell_type": "markdown",
   "id": "8c2d34dc",
   "metadata": {},
   "source": [
    "## Optimal number of topics\n",
    "\n",
    "https://radimrehurek.com/gensim/models/coherencemodel.html\n",
    "\n",
    "Best coherence for umass is typically the minimum. Best coherence for c_v is typically the maximum. Umass is faster than c_v, but in my experience c_v gives better scores for optimal number of topics. This is not a hard decision rule. It depends on the use case. If you're evaluating topics for human readability you would probably want to compare a few models with low umass to see how the top keywords look with something like pyLDAvis. Vice versa for c_v. (https://groups.google.com/g/gensim/c/Ybja9B15F1E?pli=1)"
   ]
  },
  {
   "cell_type": "code",
   "execution_count": 208,
   "id": "ed9306f5",
   "metadata": {},
   "outputs": [
    {
     "data": {
      "image/png": "[encoded data removed]",
      "text/plain": [
       "<Figure size 640x480 with 1 Axes>"
      ]
     },
     "metadata": {},
     "output_type": "display_data"
    }
   ],
   "source": [
    "topics = []\n",
    "score = []\n",
    "for i in range(1,21,1):\n",
    "    lda_model = LdaMulticore(corpus = corpus, id2word = dictionary, \n",
    "                             iterations = 10, num_topics = i, \n",
    "                             workers = 4, passes = 10, \n",
    "                             random_state = 100)\n",
    "    cm = CoherenceModel(model = lda_model, corpus = corpus, dictionary = dictionary, \n",
    "                        coherence='u_mass')\n",
    "    topics.append(i)\n",
    "    score.append(cm.get_coherence())\n",
    "    \n",
    "_=plt.plot(topics, score)\n",
    "_=plt.xlabel('Number of Topics')\n",
    "_=plt.ylabel('Coherence Score')\n",
    "plt.show()"
   ]
  },
  {
   "cell_type": "code",
   "execution_count": 115,
   "id": "a8295cd4",
   "metadata": {},
   "outputs": [
    {
     "data": {
      "text/plain": [
       "[-1.121408720505659,\n",
       " -1.620948737495374,\n",
       " -1.016521056526982,\n",
       " -0.9427682281559027,\n",
       " -0.7965999335753292,\n",
       " -0.8983108169177831,\n",
       " -0.9772901750221601,\n",
       " -0.9842819942578864,\n",
       " -1.0971731865615264,\n",
       " -0.8397444395327783,\n",
       " -1.225205644950186,\n",
       " -2.2727980605449463,\n",
       " -0.5761655517629698,\n",
       " -1.198334748579557,\n",
       " -1.9497283730234263,\n",
       " -1.2170527814992054,\n",
       " -0.732242998770254,\n",
       " -0.7673325409502417,\n",
       " -0.7954118441281258,\n",
       " -0.751193564483038]"
      ]
     },
     "execution_count": 115,
     "metadata": {},
     "output_type": "execute_result"
    }
   ],
   "source": [
    "cm.get_coherence_per_topic()"
   ]
  },
  {
   "cell_type": "code",
   "execution_count": 214,
   "id": "b2b5c1a3",
   "metadata": {},
   "outputs": [
    {
     "data": {
      "image/png": "[encoded data removed]",
      "text/plain": [
       "<Figure size 640x480 with 1 Axes>"
      ]
     },
     "metadata": {},
     "output_type": "display_data"
    }
   ],
   "source": [
    "# Calculating the coherence score using C_v\n",
    "topics = []\n",
    "score = []\n",
    "for i in range(1,20,1):\n",
    "    lda_model = LdaMulticore(corpus=corpus, id2word=dictionary, \n",
    "                             iterations=10, num_topics=i, \n",
    "                             workers = 4, passes=10, random_state=100)\n",
    "    cm = CoherenceModel(model=lda_model, texts = all_tokens, corpus=corpus, \n",
    "                        dictionary=dictionary, \n",
    "                        coherence='c_v')\n",
    "    topics.append(i)\n",
    "    score.append(cm.get_coherence())\n",
    "    \n",
    "_=plt.plot(topics, score)\n",
    "_=plt.xlabel('Number of Topics')\n",
    "_=plt.ylabel('Coherence Score')\n",
    "plt.show()"
   ]
  },
  {
   "cell_type": "markdown",
   "id": "7c5b4dc9",
   "metadata": {},
   "source": [
    "## Visualisation"
   ]
  },
  {
   "cell_type": "code",
   "execution_count": 116,
   "id": "8e9d16f3",
   "metadata": {},
   "outputs": [],
   "source": [
    "import pyLDAvis\n",
    "import pyLDAvis.gensim"
   ]
  },
  {
   "cell_type": "code",
   "execution_count": 220,
   "id": "080eea08",
   "metadata": {},
   "outputs": [
    {
     "data": {
      "text/html": [
       "\n",
       "<link rel=\"stylesheet\" type=\"text/css\" href=\"https://cdn.jsdelivr.net/gh/bmabey/pyLDAvis@3.4.0/pyLDAvis/js/ldavis.v1.0.0.css\">\n",
       "\n",
       "\n",
       "<div id=\"ldavis_el99472108469907684575233844\" style=\"background-color:white;\"></div>\n",
       "<script type=\"text/javascript\">\n",
       "\n",
       "var ldavis_el99472108469907684575233844_data = {\"mdsDat\": {\"x\": [-0.03310802420056388, 0.06343748404382905, -0.09988598707799477, 0.021476304982098154, 0.036688246039250715, 0.011391976213380665], \"y\": [0.02524944084815921, 0.030571958601865307, 0.007987104539123489, 0.033426917797583215, 0.003327277692799954, -0.1005626994795312], \"topics\": [1, 2, 3, 4, 5, 6], \"cluster\": [1, 1, 1, 1, 1, 1], \"Freq\": [19.506914566199534, 19.242952894247, 18.24036512019376, 15.853202297804255, 14.94556007228772, 12.21100504926773]}, \"tinfo\": {\"Term\": [\"russian\", \"ukraine\", \"polish\", \"ukrainian\", \"duma\", \"sejm\", \"state\", \"european\", \"deputy\", \"poland\", \"verkhovna\", \"russia\", \"rada\", \"th\", \"kyiv\", \"romanian\", \"moldova\", \"election\", \"vote\", \"elected\", \"parliamentary\", \"romania\", \"federation\", \"oblast\", \"warsaw\", \"bulgaria\", \"minister\", \"belarus\", \"belarusian\", \"moldovan\", \"shevchenko\", \"lviv\", \"tara\", \"iryna\", \"verkhovna\", \"rada\", \"servant\", \"petro\", \"kyiv\", \"kharkiv\", \"scientific\", \"olena\", \"odesa\", \"inter\", \"poroshenko\", \"located\", \"consulting\", \"ukraine\", \"donetsk\", \"volodymyr\", \"ukrainian\", \"hanna\", \"donbas\", \"charitable\", \"qualification\", \"procedure\", \"bloc\", \"oleksandr\", \"produced\", \"literature\", \"humanitarian\", \"electoral\", \"legal\", \"people\", \"science\", \"head\", \"education\", \"law\", \"region\", \"deputy\", \"parliamentary\", \"national\", \"department\", \"university\", \"group\", \"relation\", \"election\", \"international\", \"party\", \"institute\", \"time\", \"graduated\", \"council\", \"worked\", \"minister\", \"state\", \"parliament\", \"committee\", \"since\", \"russian\", \"accession\", \"mep\", \"meeting\", \"saying\", \"meet\", \"goal\", \"minority\", \"border\", \"met\", \"conservative\", \"austria\", \"film\", \"referred\", \"washington\", \"annual\", \"brussels\", \"application\", \"hosted\", \"image\", \"democrat\", \"photo\", \"review\", \"constitutional\", \"europe\", \"moldova\", \"though\", \"impact\", \"trying\", \"best\", \"effort\", \"award\", \"foreign\", \"romania\", \"right\", \"european\", \"human\", \"eu\", \"open\", \"country\", \"court\", \"parliament\", \"security\", \"affair\", \"said\", \"also\", \"political\", \"party\", \"president\", \"part\", \"international\", \"group\", \"national\", \"minister\", \"election\", \"russia\", \"russian\", \"committee\", \"state\", \"year\", \"woman\", \"government\", \"parliamentary\", \"ukraine\", \"sanctioned\", \"duma\", \"russo\", \"krai\", \"petersburg\", \"autonomous\", \"saint\", \"medvedev\", \"leningrad\", \"dmitry\", \"uk\", \"federal\", \"federation\", \"sergey\", \"yelena\", \"legislative\", \"annexation\", \"mikhail\", \"russian\", \"governor\", \"boris\", \"vladimir\", \"ruble\", \"senator\", \"australia\", \"treasury\", \"figure\", \"friendship\", \"putin\", \"ussr\", \"oblast\", \"russia\", \"state\", \"th\", \"moscow\", \"deputy\", \"chairman\", \"united\", \"war\", \"city\", \"convocation\", \"council\", \"soviet\", \"elected\", \"september\", \"head\", \"since\", \"worked\", \"march\", \"government\", \"appointed\", \"became\", \"party\", \"committee\", \"served\", \"october\", \"first\", \"also\", \"election\", \"ukrainian\", \"space\", \"bulgaria\", \"psd\", \"czech\", \"pnl\", \"moldovan\", \"pronunciation\", \"mission\", \"innovation\", \"romanian\", \"digital\", \"bucharest\", \"substitute\", \"sat\", \"youngest\", \"chamber\", \"bulgarian\", \"de\", \"ambassador\", \"gender\", \"jurist\", \"valentina\", \"serf\", \"legislature\", \"site\", \"female\", \"equality\", \"selected\", \"rank\", \"speaks\", \"vice\", \"cabinet\", \"romania\", \"woman\", \"minister\", \"finance\", \"served\", \"moldova\", \"european\", \"general\", \"democratic\", \"social\", \"public\", \"committee\", \"parliament\", \"position\", \"president\", \"union\", \"republic\", \"party\", \"university\", \"prime\", \"also\", \"first\", \"deputy\", \"december\", \"year\", \"november\", \"russian\", \"international\", \"became\", \"state\", \"national\", \"january\", \"fidesz\", \"dr\", \"belarusian\", \"belarus\", \"mp\", \"energy\", \"county\", \"gas\", \"hungarian\", \"hungary\", \"minsk\", \"budapest\", \"opposition\", \"replacing\", \"partnership\", \"yulia\", \"release\", \"housing\", \"calling\", \"industry\", \"police\", \"reform\", \"resolution\", \"chairperson\", \"constitution\", \"agreement\", \"meant\", \"environmental\", \"business\", \"pressure\", \"ruling\", \"viktor\", \"protest\", \"result\", \"election\", \"assembly\", \"parliamentary\", \"development\", \"government\", \"national\", \"president\", \"party\", \"following\", \"minister\", \"may\", \"prime\", \"also\", \"committee\", \"international\", \"ukraine\", \"became\", \"university\", \"ukrainian\", \"political\", \"list\", \"parliament\", \"european\", \"state\", \"elected\", \"year\", \"transcript\", \"getting\", \"sejm\", \"ewa\", \"polish\", \"includes\", \"warsaw\", \"record\", \"page\", \"voting\", \"poland\", \"donald\", \"declaration\", \"american\", \"catholic\", \"civic\", \"speech\", \"final\", \"near\", \"gold\", \"platform\", \"lower\", \"music\", \"spokesperson\", \"archived\", \"losing\", \"competition\", \"finished\", \"wayback\", \"originally\", \"vote\", \"mayor\", \"justice\", \"name\", \"interest\", \"maria\", \"term\", \"district\", \"elected\", \"left\", \"candidate\", \"election\", \"party\", \"constituency\", \"parliamentary\", \"list\", \"september\", \"law\", \"th\", \"also\", \"university\", \"woman\", \"december\", \"november\", \"year\", \"ukrainian\", \"became\", \"national\", \"minister\", \"president\"], \"Freq\": [1363.0, 1386.0, 357.0, 1093.0, 441.0, 230.0, 1163.0, 809.0, 1009.0, 196.0, 265.0, 738.0, 282.0, 518.0, 284.0, 272.0, 275.0, 1075.0, 332.0, 696.0, 661.0, 203.0, 233.0, 254.0, 95.0, 134.0, 815.0, 173.0, 160.0, 133.0, 88.25501245891505, 94.95224578021796, 31.534940501818348, 39.3297399655803, 232.98961346622926, 236.19229040950785, 58.85172998129961, 41.82404063278574, 222.09833373174848, 49.51102797954883, 40.959243698050834, 26.884656795508693, 31.680812800964244, 49.493120661255645, 45.378010619853214, 17.91198959841562, 11.616981198387098, 948.8582326857615, 42.70315616173075, 33.57608955628137, 728.686732625581, 25.237798055604582, 19.2306045491367, 14.928593031444857, 17.600338472099384, 13.616870297929584, 54.126272358882545, 21.01630464501382, 13.352790509784043, 25.194984888454446, 22.84945291114693, 60.61530782319203, 65.00878253783661, 222.14554723471434, 112.84742879254651, 188.144979556233, 136.03770158521965, 197.65609409175562, 94.635992063405, 268.429778103773, 191.4097020124162, 196.5169749843895, 105.61558967524837, 176.49430091288804, 118.44483227476861, 108.60486200000256, 205.32600647602803, 128.5450783938725, 219.1846009373327, 88.76801330616732, 106.05842370625193, 92.88652018900677, 110.36876137497757, 100.74001759140222, 129.34238709037734, 135.9917119823746, 113.62682498474071, 108.07305665343632, 99.16480627573198, 104.88161262397851, 24.249668413106235, 46.563507389688276, 80.31909546486138, 32.781176237773835, 19.70953655535212, 14.509200192266642, 28.586224297549197, 20.24577653913048, 49.712210841392285, 19.98349500174153, 20.114855751635137, 98.49368634509679, 15.763522758036494, 19.50225159670676, 25.107595089723, 17.718036527921885, 12.494793982996505, 13.797852616057888, 13.135179717038584, 25.638688536610022, 15.346433288639428, 18.295427064503084, 39.35625568874731, 125.70329387768398, 163.235964257804, 15.686626539335084, 12.248800007066583, 13.84924124734361, 43.499639943221815, 28.876676218031704, 109.04476226345137, 150.48355182725598, 111.64285277372673, 213.84622020752462, 388.558869647847, 97.61014976422753, 95.59834496053318, 35.936187522466916, 114.22522741786871, 83.73574624879245, 233.263950423267, 79.34478850221984, 105.44189995237555, 70.97678554068885, 187.76453302051738, 140.59429190441244, 258.66713373868015, 170.96057848613265, 93.3967628879314, 117.08977143455377, 94.56984588527745, 131.84234501276762, 136.17861441006755, 152.2378251527101, 122.64072585504495, 149.3821929325108, 117.34001795401343, 137.34339951194863, 105.73358479074157, 101.70911572192371, 101.01101817608131, 100.10065412060156, 98.16328481568345, 90.50036345314658, 404.4129531692841, 52.70782578968875, 43.38174700534429, 74.5233165658261, 33.4124596894492, 56.566732678797294, 16.820078038493023, 25.43690811934018, 23.153868072921355, 49.16568477875337, 81.44965208547741, 170.72325939526135, 21.49194072932935, 52.10454880683255, 81.2377086441952, 18.779911125974415, 20.874232234066252, 906.5447028079486, 93.86975305346928, 15.51889849836063, 80.1100527654654, 19.574172881892864, 43.514908742808466, 11.681003619755812, 19.57584710220821, 58.28133795225359, 23.16476929600291, 71.44449208375234, 27.353782483523656, 149.2530192768261, 418.02629192924195, 642.432701978393, 280.42106463890667, 143.95477269566754, 472.2909898593026, 115.7053878156746, 200.62599320975767, 91.79714346719324, 129.86130488886596, 67.55272149854785, 172.61186719834944, 113.70759320702409, 205.45298496037108, 139.8192133257749, 147.75394592555963, 153.51512594099643, 133.8583391971271, 137.4339888608621, 152.39961270577027, 120.25097477295057, 140.54503693162664, 191.0519455453975, 142.08442735082016, 114.00772599126054, 105.73540462544133, 109.09049849371581, 115.37440379422958, 119.64331887352736, 114.11027895644234, 71.25149145413059, 107.83541872540258, 47.11398187806602, 49.9575951317117, 42.097341260658474, 95.14693633200534, 13.584066775405761, 40.1056537949416, 23.105156363663195, 174.29652929081635, 24.46046410815085, 84.75209640027009, 11.389339188521626, 13.254461512154261, 12.255785528761585, 65.6392942980454, 85.03679658418072, 36.74872041991604, 32.06607463262222, 18.636560439289717, 12.05901681949157, 26.649682082667596, 15.607869939144825, 10.439831411576046, 25.093651225541247, 39.595646395168735, 13.824018876005878, 13.949410235688648, 16.966262813678707, 9.03697915784117, 83.53062935215942, 68.03957183525326, 81.75630025631138, 187.18227456219662, 282.7665997274496, 39.832632429826184, 153.23744845391036, 98.86406285458635, 243.57405170370322, 82.78219028985225, 83.1051595732434, 112.26455280193068, 110.14535505695352, 190.0032298115684, 181.50329192699598, 92.92334992448046, 183.923517443041, 121.03422040330415, 90.64716457846255, 212.46081864292626, 129.71663614372545, 85.14499529804236, 122.63579064588059, 103.2745091351787, 129.74988979955157, 94.42378522089673, 97.41272833008064, 88.9308038960787, 100.52247198214013, 89.26425082058311, 89.49321636005209, 92.5350618631434, 90.13419848839945, 85.16739199348723, 39.89669217811662, 13.796169974379, 112.26784566210063, 116.20311405990998, 84.37783571380254, 97.06485996895928, 52.42266435407375, 55.598278547507995, 105.56948891445957, 39.30598908665313, 19.606963202504826, 22.584376415486723, 109.73943172328433, 10.392744350804136, 18.770935116592806, 59.3868029246675, 19.720074742845167, 18.51405162663712, 14.456616407889001, 32.42519366577077, 43.17041650254528, 55.90073048219515, 16.999856928343302, 20.60294274772802, 20.595252315258406, 27.33783848632261, 9.158104124157298, 13.427927194519087, 83.40770881588679, 9.608363945830513, 15.254547946904275, 37.553174433844895, 55.655916064120866, 43.03643093121599, 305.45646010161676, 74.46682911214897, 177.03020326935163, 91.14501895136281, 140.911196150504, 170.65649362858852, 160.93427711133754, 228.24518563067068, 71.92528720181132, 152.82335221734033, 96.19360608658157, 76.45260168574949, 124.57757583015602, 121.38568279310101, 94.84263292040826, 156.00377019938512, 98.94033215229554, 102.3177571210148, 120.48556644548988, 92.15954414037414, 78.70942078032502, 93.34498725401109, 90.85028327596577, 97.69018689330329, 82.29432650476542, 78.03915518833374, 36.689192854308196, 32.987474610446405, 219.85356128565644, 20.32119360080556, 332.5694204618733, 46.167524701603746, 84.6593341311736, 51.39361392501899, 50.23888658692765, 55.830064807413706, 159.6703147538216, 16.245178057081848, 47.35085897225115, 66.03953881804846, 14.36609020364377, 68.9800860599256, 61.6124829041986, 34.21323232578772, 24.015219592432718, 17.231633522486934, 63.7751696025261, 10.188408374529862, 26.579919397101648, 12.947002767151938, 19.897786975904836, 11.636975203078947, 29.26545362529936, 19.724379360219984, 14.28403518465975, 8.158970183945227, 160.24817998563168, 74.19985786496203, 66.2462216333134, 36.9061990973453, 57.340349826871744, 47.123233882596836, 83.87875962988258, 95.04978627119279, 197.75246589704895, 63.06154804915115, 113.57615780934078, 219.28575977274377, 215.8936632030235, 58.94068889865676, 126.4292668907703, 86.10269217360305, 90.15437786530208, 90.63378746268631, 89.84790840762811, 100.43268122047311, 95.5883900138593, 85.13306908964407, 82.21428545147278, 77.29570452123059, 77.94542470596804, 82.94981344843468, 73.2800923922373, 72.51521729242623, 69.66993775853709, 69.16511564775648], \"Total\": [1363.0, 1386.0, 357.0, 1093.0, 441.0, 230.0, 1163.0, 809.0, 1009.0, 196.0, 265.0, 738.0, 282.0, 518.0, 284.0, 272.0, 275.0, 1075.0, 332.0, 696.0, 661.0, 203.0, 233.0, 254.0, 95.0, 134.0, 815.0, 173.0, 160.0, 133.0, 94.0543109822486, 101.88173803903528, 34.60147636998477, 44.523398331076706, 265.563536559506, 282.22215042002233, 71.15895683597815, 51.319530041109424, 284.75175107374224, 63.960779389370416, 54.40786378347804, 37.079889094617464, 44.39466766955492, 69.37834260582683, 64.93832559855895, 25.74253117181024, 16.771849425395867, 1386.5977759757718, 62.55653542309053, 50.23743130672504, 1093.3610192824408, 39.58366846247813, 30.46860343062959, 23.800512930525535, 28.58083612942951, 22.56254369942223, 90.7665318565795, 37.24796801026297, 23.825659102719403, 45.4404288606793, 41.36522300119396, 118.06897120467708, 127.80414813785134, 513.9487260323548, 242.67799884694784, 473.1855908865917, 325.5226530100073, 522.5156008014209, 217.17334764200908, 1009.3793047781367, 661.3329521567712, 711.1374916872993, 289.49363746373564, 652.882370072143, 365.1080349122082, 320.6977097226266, 1075.5861731155135, 469.6788025860976, 1325.5033476980307, 265.6262552297824, 409.3053552666409, 325.1680463676495, 503.19829325308666, 413.3131430219978, 815.95185478966, 1163.9521684501774, 701.9734967401032, 717.9665619846944, 514.2922091732476, 1363.6965552545685, 30.46117880400804, 60.89896955819021, 112.93668686415036, 46.227852264554244, 28.10265473081778, 21.175731836998377, 42.26339064419125, 30.208687374847862, 74.19893607482005, 29.835015501062056, 30.247663092413237, 148.3148589314954, 23.983502438794527, 30.12063761308853, 38.87668723044038, 28.19972530350235, 20.009207478821544, 22.16043113824825, 21.135455310799337, 41.25984255702446, 25.248664638300017, 30.114972401152077, 66.11069105011875, 211.6091975846737, 275.3234954867642, 26.747696982875286, 21.138255332338503, 23.919750833047583, 75.21858413729584, 50.194226308955606, 190.33145133059554, 267.11311945784064, 203.1077150539081, 410.5709174788674, 809.3294491818508, 192.23867272053343, 191.7582039488891, 66.16385436599198, 260.63195581367023, 189.7501195483743, 701.9734967401032, 198.73289301336717, 302.38708480834043, 180.43527158423836, 726.1387931923613, 523.8008530922118, 1325.5033476980307, 747.8004674934531, 299.3333977687444, 469.6788025860976, 365.1080349122082, 711.1374916872993, 815.95185478966, 1075.5861731155135, 738.8353638561455, 1363.6965552545685, 717.9665619846944, 1163.9521684501774, 553.9893230130223, 508.3263541390585, 545.3882971838846, 661.3329521567712, 1386.5977759757718, 98.16377492128531, 441.5454295484437, 57.65951505304945, 48.58779522861066, 87.98907646525343, 41.39725456686503, 71.76466148133113, 22.1901632065307, 34.22084521043025, 31.30022307002345, 66.78823305712768, 111.14983753530785, 233.82784572918342, 31.263141848045642, 75.83802481552749, 120.47410581348126, 27.899012966186046, 31.187127915897896, 1363.6965552545685, 141.9549565581484, 24.05001722675985, 126.12378374558484, 31.20301165052651, 69.39884226325621, 18.988788115672904, 31.958044587870233, 95.62270829944015, 38.373081476875896, 118.85437888377564, 45.74854806479936, 254.5217624427703, 738.8353638561455, 1163.9521684501774, 518.1122449608367, 260.2432214548288, 1009.3793047781367, 227.98596575454235, 437.73285617887, 181.24113527375107, 292.30236092580145, 131.95698866145239, 503.19829325308666, 281.1381948147785, 696.5849799351915, 429.62353974693474, 473.1855908865917, 514.2922091732476, 413.3131430219978, 441.69541583852606, 545.3882971838846, 356.1455495942633, 560.6022890006756, 1325.5033476980307, 717.9665619846944, 452.20211875307507, 389.08449691736763, 495.20898211304944, 726.1387931923613, 1075.5861731155135, 1093.3610192824408, 81.15528992851287, 134.8442120883357, 63.67410154181011, 69.01363612247417, 58.54806922416566, 133.00512281433154, 19.813432056063682, 61.70277791800019, 35.99853069973209, 272.38462064787984, 38.24426859094074, 133.65803482200081, 18.233805176809877, 22.91739849180204, 22.059395447762427, 118.70561255251609, 157.5099427998026, 70.75010332924525, 64.39374652446836, 37.60993162068362, 24.990491943482734, 55.745540123729974, 32.699472600309214, 22.103434338685066, 53.26489227165442, 84.23354178934905, 30.584193400299853, 31.024058078682554, 37.763946595686065, 20.123924482658676, 195.97042271612375, 163.0102344151162, 203.1077150539081, 508.3263541390585, 815.95185478966, 96.19992160054915, 452.20211875307507, 275.3234954867642, 809.3294491818508, 226.75520047390756, 231.63658186037796, 338.86825341282673, 345.9002216906068, 717.9665619846944, 701.9734967401032, 280.4704888027927, 747.8004674934531, 413.81105709805223, 284.9791313395622, 1325.5033476980307, 652.882370072143, 304.05894168716077, 726.1387931923613, 495.20898211304944, 1009.3793047781367, 473.7026950118309, 553.9893230130223, 409.76986123213726, 1363.6965552545685, 469.6788025860976, 560.6022890006756, 1163.9521684501774, 711.1374916872993, 344.5390981886285, 49.68238393733363, 18.571986230817444, 160.61588703138784, 173.54737326960674, 135.48670543153816, 157.76040419775674, 87.31606702756997, 95.63065087678144, 183.73650369249168, 70.29032465659115, 35.38765919660342, 41.28319180798048, 203.26148054915149, 19.691411471353664, 37.6085778672115, 119.7257664349075, 40.42408366536025, 38.17160029701484, 30.325227366700975, 69.81148313174695, 94.39816973301848, 124.16475917106257, 38.43218563267636, 47.19694073091922, 47.22727260971083, 62.79888721700282, 21.650039652552966, 32.39763347082113, 202.78956453060275, 23.62280408113144, 37.96609676069559, 98.67959043353014, 150.88482882342774, 118.71547437435194, 1075.5861731155135, 228.24288694514968, 661.3329521567712, 307.4769990363975, 545.3882971838846, 711.1374916872993, 747.8004674934531, 1325.5033476980307, 259.63120697982305, 815.95185478966, 406.9936495819866, 304.05894168716077, 726.1387931923613, 717.9665619846944, 469.6788025860976, 1386.5977759757718, 560.6022890006756, 652.882370072143, 1093.3610192824408, 523.8008530922118, 356.8028868802178, 701.9734967401032, 809.3294491818508, 1163.9521684501774, 696.5849799351915, 553.9893230130223, 37.95446634075828, 34.36329605727879, 230.70879186322236, 21.75182688228802, 357.13592863752183, 49.89180353014682, 95.57979383386949, 59.40568469650758, 58.475264224734936, 65.91278728355172, 196.05787569503832, 20.14890785774199, 60.75787514170295, 88.98389219295, 20.33226506803931, 101.28648208653931, 92.04716087875572, 51.29429003335698, 37.4505964971483, 27.20493416252056, 103.9628354450199, 16.867195327099807, 48.13402195547726, 23.511907671022897, 36.90089943940659, 21.736940437450407, 54.83879450812272, 37.73338721243654, 27.478090900362133, 16.171843741490733, 332.0951014326017, 152.55031326497874, 136.66402478163283, 76.96611849412339, 128.03929742044969, 102.2734425293143, 202.84318062942162, 252.5597476772075, 696.5849799351915, 162.37983974623282, 396.93924431262144, 1075.5861731155135, 1325.5033476980307, 167.8945788262505, 661.3329521567712, 356.8028868802178, 429.62353974693474, 522.5156008014209, 518.1122449608367, 726.1387931923613, 652.882370072143, 508.3263541390585, 473.7026950118309, 409.76986123213726, 553.9893230130223, 1093.3610192824408, 560.6022890006756, 711.1374916872993, 815.95185478966, 747.8004674934531], \"Category\": [\"Default\", \"Default\", \"Default\", \"Default\", \"Default\", \"Default\", \"Default\", \"Default\", \"Default\", \"Default\", \"Default\", \"Default\", \"Default\", \"Default\", \"Default\", \"Default\", \"Default\", \"Default\", \"Default\", \"Default\", \"Default\", \"Default\", \"Default\", \"Default\", \"Default\", \"Default\", \"Default\", \"Default\", \"Default\", \"Default\", \"Topic1\", \"Topic1\", \"Topic1\", \"Topic1\", \"Topic1\", \"Topic1\", \"Topic1\", \"Topic1\", \"Topic1\", \"Topic1\", \"Topic1\", \"Topic1\", \"Topic1\", \"Topic1\", \"Topic1\", \"Topic1\", \"Topic1\", \"Topic1\", \"Topic1\", \"Topic1\", \"Topic1\", \"Topic1\", \"Topic1\", \"Topic1\", \"Topic1\", \"Topic1\", \"Topic1\", \"Topic1\", \"Topic1\", \"Topic1\", \"Topic1\", \"Topic1\", \"Topic1\", \"Topic1\", \"Topic1\", \"Topic1\", \"Topic1\", \"Topic1\", \"Topic1\", \"Topic1\", \"Topic1\", \"Topic1\", \"Topic1\", \"Topic1\", \"Topic1\", \"Topic1\", \"Topic1\", \"Topic1\", \"Topic1\", \"Topic1\", \"Topic1\", \"Topic1\", \"Topic1\", \"Topic1\", \"Topic1\", \"Topic1\", \"Topic1\", \"Topic1\", \"Topic1\", \"Topic1\", \"Topic2\", \"Topic2\", \"Topic2\", \"Topic2\", \"Topic2\", \"Topic2\", \"Topic2\", \"Topic2\", \"Topic2\", \"Topic2\", \"Topic2\", \"Topic2\", \"Topic2\", \"Topic2\", \"Topic2\", \"Topic2\", \"Topic2\", \"Topic2\", \"Topic2\", \"Topic2\", \"Topic2\", \"Topic2\", \"Topic2\", \"Topic2\", \"Topic2\", \"Topic2\", \"Topic2\", \"Topic2\", \"Topic2\", \"Topic2\", \"Topic2\", \"Topic2\", \"Topic2\", \"Topic2\", \"Topic2\", \"Topic2\", \"Topic2\", \"Topic2\", \"Topic2\", \"Topic2\", \"Topic2\", \"Topic2\", \"Topic2\", \"Topic2\", \"Topic2\", \"Topic2\", \"Topic2\", \"Topic2\", \"Topic2\", \"Topic2\", \"Topic2\", \"Topic2\", \"Topic2\", \"Topic2\", \"Topic2\", \"Topic2\", \"Topic2\", \"Topic2\", \"Topic2\", \"Topic2\", \"Topic2\", \"Topic2\", \"Topic2\", \"Topic3\", \"Topic3\", \"Topic3\", \"Topic3\", \"Topic3\", \"Topic3\", \"Topic3\", \"Topic3\", \"Topic3\", \"Topic3\", \"Topic3\", \"Topic3\", \"Topic3\", \"Topic3\", \"Topic3\", \"Topic3\", \"Topic3\", \"Topic3\", \"Topic3\", \"Topic3\", \"Topic3\", \"Topic3\", \"Topic3\", \"Topic3\", \"Topic3\", \"Topic3\", \"Topic3\", \"Topic3\", \"Topic3\", \"Topic3\", \"Topic3\", \"Topic3\", \"Topic3\", \"Topic3\", \"Topic3\", \"Topic3\", \"Topic3\", \"Topic3\", \"Topic3\", \"Topic3\", \"Topic3\", \"Topic3\", \"Topic3\", \"Topic3\", \"Topic3\", \"Topic3\", \"Topic3\", \"Topic3\", \"Topic3\", \"Topic3\", \"Topic3\", \"Topic3\", \"Topic3\", \"Topic3\", \"Topic3\", \"Topic3\", \"Topic3\", \"Topic3\", \"Topic3\", \"Topic3\", \"Topic4\", \"Topic4\", \"Topic4\", \"Topic4\", \"Topic4\", \"Topic4\", \"Topic4\", \"Topic4\", \"Topic4\", \"Topic4\", \"Topic4\", \"Topic4\", \"Topic4\", \"Topic4\", \"Topic4\", \"Topic4\", \"Topic4\", \"Topic4\", \"Topic4\", \"Topic4\", \"Topic4\", \"Topic4\", \"Topic4\", \"Topic4\", \"Topic4\", \"Topic4\", \"Topic4\", \"Topic4\", \"Topic4\", \"Topic4\", \"Topic4\", \"Topic4\", \"Topic4\", \"Topic4\", \"Topic4\", \"Topic4\", \"Topic4\", \"Topic4\", \"Topic4\", \"Topic4\", \"Topic4\", \"Topic4\", \"Topic4\", \"Topic4\", \"Topic4\", \"Topic4\", \"Topic4\", \"Topic4\", \"Topic4\", \"Topic4\", \"Topic4\", \"Topic4\", \"Topic4\", \"Topic4\", \"Topic4\", \"Topic4\", \"Topic4\", \"Topic4\", \"Topic4\", \"Topic4\", \"Topic4\", \"Topic4\", \"Topic4\", \"Topic4\", \"Topic5\", \"Topic5\", \"Topic5\", \"Topic5\", \"Topic5\", \"Topic5\", \"Topic5\", \"Topic5\", \"Topic5\", \"Topic5\", \"Topic5\", \"Topic5\", \"Topic5\", \"Topic5\", \"Topic5\", \"Topic5\", \"Topic5\", \"Topic5\", \"Topic5\", \"Topic5\", \"Topic5\", \"Topic5\", \"Topic5\", \"Topic5\", \"Topic5\", \"Topic5\", \"Topic5\", \"Topic5\", \"Topic5\", \"Topic5\", \"Topic5\", \"Topic5\", \"Topic5\", \"Topic5\", \"Topic5\", \"Topic5\", \"Topic5\", \"Topic5\", \"Topic5\", \"Topic5\", \"Topic5\", \"Topic5\", \"Topic5\", \"Topic5\", \"Topic5\", \"Topic5\", \"Topic5\", \"Topic5\", \"Topic5\", \"Topic5\", \"Topic5\", \"Topic5\", \"Topic5\", \"Topic5\", \"Topic5\", \"Topic5\", \"Topic5\", \"Topic5\", \"Topic5\", \"Topic5\", \"Topic6\", \"Topic6\", \"Topic6\", \"Topic6\", \"Topic6\", \"Topic6\", \"Topic6\", \"Topic6\", \"Topic6\", \"Topic6\", \"Topic6\", \"Topic6\", \"Topic6\", \"Topic6\", \"Topic6\", \"Topic6\", \"Topic6\", \"Topic6\", \"Topic6\", \"Topic6\", \"Topic6\", \"Topic6\", \"Topic6\", \"Topic6\", \"Topic6\", \"Topic6\", \"Topic6\", \"Topic6\", \"Topic6\", \"Topic6\", \"Topic6\", \"Topic6\", \"Topic6\", \"Topic6\", \"Topic6\", \"Topic6\", \"Topic6\", \"Topic6\", \"Topic6\", \"Topic6\", \"Topic6\", \"Topic6\", \"Topic6\", \"Topic6\", \"Topic6\", \"Topic6\", \"Topic6\", \"Topic6\", \"Topic6\", \"Topic6\", \"Topic6\", \"Topic6\", \"Topic6\", \"Topic6\", \"Topic6\", \"Topic6\", \"Topic6\", \"Topic6\", \"Topic6\", \"Topic6\"], \"logprob\": [30.0, 29.0, 28.0, 27.0, 26.0, 25.0, 24.0, 23.0, 22.0, 21.0, 20.0, 19.0, 18.0, 17.0, 16.0, 15.0, 14.0, 13.0, 12.0, 11.0, 10.0, 9.0, 8.0, 7.0, 6.0, 5.0, 4.0, 3.0, 2.0, 1.0, -5.5309, -5.4578, -6.5601, -6.3392, -4.5602, -4.5465, -5.9361, -6.2777, -4.608, -6.109, -6.2986, -6.7196, -6.5555, -6.1093, -6.1961, -7.1257, -7.5587, -3.1559, -6.2569, -6.4974, -3.4199, -6.7828, -7.0547, -7.3079, -7.1432, -7.3999, -6.0198, -6.9659, -7.4194, -6.7845, -6.8822, -5.9066, -5.8366, -4.6078, -5.2851, -4.774, -5.0982, -4.7246, -5.4611, -4.4186, -4.7567, -4.7304, -5.3514, -4.8379, -5.2367, -5.3234, -4.6866, -5.1549, -4.6213, -5.5251, -5.3472, -5.4798, -5.3073, -5.3986, -5.1487, -5.0986, -5.2782, -5.3284, -5.4144, -5.3583, -6.8091, -6.1567, -5.6115, -6.5077, -7.0164, -7.3228, -6.6446, -6.9896, -6.0913, -7.0026, -6.9961, -5.4075, -7.2398, -7.027, -6.7744, -7.123, -7.4722, -7.373, -7.4222, -6.7534, -7.2667, -7.0909, -6.3249, -5.1636, -4.9023, -7.2447, -7.4921, -7.3693, -6.2248, -6.6345, -5.3058, -4.9837, -5.2822, -4.6323, -4.0351, -5.4166, -5.4374, -6.4158, -5.2594, -5.5699, -4.5454, -5.6237, -5.3394, -5.7352, -4.7624, -5.0517, -4.442, -4.8561, -5.4607, -5.2346, -5.4482, -5.1159, -5.0836, -4.9721, -5.1883, -4.991, -5.2325, -5.0751, -5.3366, -5.3754, -5.3823, -5.3914, -5.4109, -5.4387, -3.9416, -5.9793, -6.174, -5.6329, -6.4351, -5.9086, -7.1215, -6.7078, -6.8019, -6.0488, -5.544, -4.804, -6.8764, -5.9908, -5.5467, -7.0112, -6.9055, -3.1344, -5.4021, -7.202, -5.5606, -6.9698, -6.1709, -7.4861, -6.9697, -5.8788, -6.8014, -5.6751, -6.6352, -4.9384, -3.9085, -3.4788, -4.3077, -4.9745, -3.7864, -5.193, -4.6426, -5.4245, -5.0776, -5.7311, -4.793, -5.2104, -4.6188, -5.0037, -4.9485, -4.9102, -5.0473, -5.0209, -4.9175, -5.1545, -4.9985, -4.6915, -4.9876, -5.2078, -5.2831, -5.2519, -5.1959, -5.1595, -5.2069, -5.5376, -5.1232, -5.9512, -5.8926, -6.0638, -5.2483, -7.1949, -6.1123, -6.6637, -4.643, -6.6067, -5.364, -7.3711, -7.2194, -7.2978, -5.6196, -5.3607, -6.1997, -6.336, -6.8786, -7.314, -6.521, -7.056, -7.4581, -6.5812, -6.125, -7.1774, -7.1683, -6.9725, -7.6024, -5.3786, -5.5837, -5.4, -4.5717, -4.1591, -6.1191, -4.7718, -5.21, -4.3083, -5.3876, -5.3837, -5.0829, -5.102, -4.5567, -4.6025, -5.272, -4.5892, -5.0077, -5.2968, -4.445, -4.9384, -5.3594, -4.9945, -5.1664, -4.9382, -5.256, -5.2248, -5.3159, -5.1934, -5.3122, -5.3096, -5.2762, -5.3025, -5.3591, -6.0585, -7.1204, -5.0239, -4.9895, -5.3095, -5.1694, -5.7855, -5.7267, -5.0854, -6.0734, -6.7689, -6.6276, -5.0467, -7.4037, -6.8125, -5.6607, -6.7632, -6.8263, -7.0737, -6.2659, -5.9797, -5.7212, -6.9116, -6.7194, -6.7197, -6.4365, -7.5302, -7.1475, -5.3211, -7.4822, -7.0199, -6.1191, -5.7256, -5.9828, -4.023, -5.4345, -4.5685, -5.2324, -4.7967, -4.6052, -4.6638, -4.3144, -5.4692, -4.7155, -5.1784, -5.4081, -4.9199, -4.9458, -5.1926, -4.6949, -5.1503, -5.1167, -4.9533, -5.2213, -5.379, -5.2085, -5.2356, -5.163, -5.3345, -5.3876, -5.9403, -6.0466, -4.1498, -6.5311, -3.7359, -5.7105, -5.1041, -5.6032, -5.6259, -5.5204, -4.4696, -6.7549, -5.6851, -5.3525, -6.8779, -5.3089, -5.4219, -6.0101, -6.364, -6.696, -5.3874, -7.2215, -6.2626, -6.9819, -6.5521, -7.0885, -6.1663, -6.5609, -6.8836, -7.4436, -4.466, -5.236, -5.3494, -5.9344, -5.4937, -5.69, -5.1134, -4.9883, -4.2557, -5.3986, -4.8103, -4.1524, -4.1679, -5.4662, -4.7031, -5.0872, -5.0412, -5.0359, -5.0446, -4.9332, -4.9827, -5.0985, -5.1334, -5.1951, -5.1867, -5.1245, -5.2484, -5.2589, -5.299, -5.3062], \"loglift\": [30.0, 29.0, 28.0, 27.0, 26.0, 25.0, 24.0, 23.0, 22.0, 21.0, 20.0, 19.0, 18.0, 17.0, 16.0, 15.0, 14.0, 13.0, 12.0, 11.0, 10.0, 9.0, 8.0, 7.0, 6.0, 5.0, 4.0, 3.0, 2.0, 1.0, 1.5708, 1.564, 1.5416, 1.5104, 1.5035, 1.4564, 1.4445, 1.4298, 1.3859, 1.3783, 1.3505, 1.3129, 1.297, 1.2967, 1.276, 1.2717, 1.2672, 1.2551, 1.2526, 1.2315, 1.2286, 1.1843, 1.1742, 1.168, 1.1496, 1.1294, 1.1174, 1.0621, 1.0554, 1.0446, 1.0409, 0.9677, 0.9584, 0.7956, 0.8687, 0.7121, 0.7619, 0.6623, 0.8037, 0.3099, 0.3946, 0.3483, 0.6261, 0.3263, 0.5087, 0.5516, -0.0216, 0.3386, -0.1652, 0.5383, 0.2839, 0.3814, 0.1172, 0.2227, -0.2075, -0.5126, -0.1866, -0.2592, -0.0116, -0.9307, 1.42, 1.3796, 1.3072, 1.3043, 1.2933, 1.27, 1.257, 1.2478, 1.2475, 1.2472, 1.2401, 1.2387, 1.2284, 1.2133, 1.2108, 1.1833, 1.1771, 1.1742, 1.1724, 1.1722, 1.1501, 1.1497, 1.1293, 1.1272, 1.1253, 1.1144, 1.1024, 1.1016, 1.1004, 1.0952, 1.091, 1.0742, 1.0496, 0.9957, 0.9143, 0.9703, 0.9519, 1.0376, 0.8231, 0.83, 0.5463, 0.7299, 0.5945, 0.715, 0.2955, 0.3328, 0.014, 0.1723, 0.4833, 0.2589, 0.2972, -0.0372, -0.1424, -0.3072, -0.1478, -0.5634, -0.1633, -0.4891, -0.0082, 0.039, -0.0382, -0.2401, -1.0, 1.6202, 1.6137, 1.6117, 1.5882, 1.5354, 1.4872, 1.4636, 1.4245, 1.4049, 1.4001, 1.3952, 1.3906, 1.387, 1.3268, 1.3262, 1.3075, 1.3057, 1.3, 1.2932, 1.2879, 1.2635, 1.2477, 1.2352, 1.2348, 1.2156, 1.2114, 1.2064, 1.1968, 1.1926, 1.1872, 1.1678, 1.132, 1.1072, 1.0876, 1.1094, 0.942, 1.0233, 0.9214, 1.0213, 0.8902, 1.032, 0.6316, 0.7963, 0.4806, 0.579, 0.5376, 0.4925, 0.5741, 0.5341, 0.4265, 0.6158, 0.318, -0.2355, 0.0815, 0.3237, 0.3987, 0.1887, -0.138, -0.4946, -0.5583, 1.7116, 1.6183, 1.5406, 1.5187, 1.5119, 1.5068, 1.4643, 1.411, 1.3984, 1.3953, 1.3949, 1.3862, 1.3712, 1.2942, 1.2541, 1.2493, 1.2254, 1.1867, 1.1446, 1.1397, 1.1131, 1.1038, 1.1022, 1.0917, 1.0891, 1.0869, 1.0477, 1.0425, 1.0417, 1.0412, 0.989, 0.9681, 0.9318, 0.8428, 0.7821, 0.9601, 0.7597, 0.8176, 0.641, 0.8341, 0.8167, 0.737, 0.6974, 0.5124, 0.4892, 0.7371, 0.4392, 0.6125, 0.6964, 0.011, 0.2258, 0.5689, 0.0633, 0.2742, -0.2097, 0.229, 0.1036, 0.3141, -0.7658, 0.1814, 0.0069, -0.6902, -0.2238, 0.4442, 1.6814, 1.6035, 1.5426, 1.4996, 1.4272, 1.4151, 1.3906, 1.3584, 1.3466, 1.3195, 1.3103, 1.2976, 1.2844, 1.2617, 1.2058, 1.1996, 1.183, 1.1772, 1.1599, 1.1339, 1.1184, 1.1027, 1.0851, 1.0719, 1.0708, 1.0691, 1.0404, 1.02, 1.0123, 1.0012, 0.9889, 0.9346, 0.9034, 0.8861, 0.6419, 0.7807, 0.5828, 0.6848, 0.5474, 0.4735, 0.3646, 0.1416, 0.6171, 0.2257, 0.4583, 0.5202, 0.1379, 0.1233, 0.3009, -0.284, 0.1663, 0.0474, -0.3047, 0.1632, 0.3893, -0.1168, -0.2862, -0.577, -0.2351, -0.0592, 2.0689, 2.062, 2.0546, 2.0348, 2.0316, 2.0253, 1.9815, 1.958, 1.951, 1.9368, 1.8975, 1.8875, 1.8535, 1.8046, 1.7555, 1.7187, 1.7014, 1.6979, 1.6585, 1.6462, 1.6142, 1.5987, 1.509, 1.5062, 1.4852, 1.478, 1.4748, 1.4541, 1.4486, 1.4187, 1.3741, 1.3821, 1.3787, 1.3678, 1.2995, 1.3279, 1.2198, 1.1256, 0.8437, 1.157, 0.8515, 0.5126, 0.2881, 1.056, 0.4483, 0.6812, 0.5414, 0.351, 0.3508, 0.1246, 0.1815, 0.3159, 0.3516, 0.4349, 0.1417, -0.4759, 0.0681, -0.1802, -0.3578, -0.2778]}, \"token.table\": {\"Topic\": [2, 4, 1, 2, 3, 4, 5, 6, 1, 2, 3, 4, 5, 6, 1, 2, 3, 4, 5, 6, 1, 2, 3, 4, 5, 6, 1, 2, 3, 4, 5, 6, 1, 2, 3, 4, 5, 6, 1, 2, 3, 4, 5, 6, 1, 2, 3, 4, 5, 6, 1, 2, 3, 4, 5, 6, 1, 2, 3, 4, 5, 6, 1, 2, 3, 4, 5, 6, 1, 2, 3, 4, 6, 1, 2, 3, 4, 5, 6, 1, 2, 3, 4, 6, 1, 2, 3, 4, 5, 6, 1, 2, 3, 4, 5, 6, 1, 2, 3, 4, 5, 6, 1, 2, 3, 4, 5, 6, 1, 2, 3, 4, 5, 6, 1, 2, 3, 4, 5, 6, 1, 2, 3, 4, 5, 6, 1, 2, 3, 4, 6, 1, 2, 3, 4, 5, 1, 2, 3, 4, 5, 6, 1, 2, 3, 4, 5, 6, 2, 3, 4, 5, 6, 1, 2, 3, 4, 5, 6, 1, 2, 3, 4, 5, 6, 1, 2, 3, 4, 5, 6, 1, 2, 3, 4, 5, 6, 1, 2, 3, 4, 5, 6, 1, 2, 3, 4, 5, 6, 1, 2, 3, 4, 5, 6, 1, 2, 3, 4, 5, 6, 1, 2, 3, 4, 5, 6, 1, 2, 3, 4, 5, 6, 1, 2, 3, 4, 5, 6, 1, 2, 3, 4, 5, 6, 1, 2, 3, 4, 5, 6, 1, 2, 3, 4, 5, 6, 1, 2, 3, 4, 5, 6, 1, 2, 3, 4, 5, 6, 1, 2, 3, 4, 5, 6, 1, 2, 3, 4, 5, 6, 1, 4, 5, 6, 1, 2, 3, 4, 5, 6, 1, 2, 3, 4, 5, 6, 1, 2, 3, 4, 5, 6, 1, 2, 3, 4, 5, 6, 1, 2, 3, 4, 5, 6, 1, 2, 4, 5, 1, 2, 3, 4, 5, 6, 1, 2, 3, 4, 5, 6, 1, 2, 3, 4, 5, 6, 2, 3, 4, 5, 6, 1, 2, 3, 4, 5, 6, 1, 2, 3, 4, 5, 6, 1, 2, 3, 4, 5, 6, 1, 2, 3, 4, 5, 6, 1, 2, 3, 4, 5, 6, 1, 2, 3, 4, 5, 6, 1, 2, 3, 4, 5, 3, 5, 6, 1, 2, 3, 4, 5, 6, 1, 2, 3, 4, 5, 6, 1, 2, 3, 4, 5, 1, 2, 3, 4, 5, 6, 1, 2, 3, 4, 5, 6, 1, 2, 3, 4, 5, 6, 1, 2, 3, 4, 5, 6, 1, 2, 3, 4, 5, 6, 1, 2, 3, 4, 5, 6, 1, 2, 3, 4, 5, 6, 1, 2, 3, 4, 5, 6, 1, 2, 3, 4, 5, 6, 1, 2, 3, 4, 5, 6, 1, 2, 3, 4, 5, 6, 1, 2, 3, 4, 5, 6, 6, 1, 2, 3, 4, 5, 6, 1, 2, 3, 4, 5, 6, 1, 2, 3, 4, 5, 6, 2, 3, 4, 5, 6, 1, 2, 3, 4, 5, 6, 1, 2, 3, 4, 5, 6, 1, 2, 3, 4, 5, 6, 1, 2, 3, 4, 5, 6, 1, 2, 3, 4, 5, 6, 1, 2, 3, 4, 5, 6, 1, 2, 3, 4, 5, 6, 1, 2, 3, 4, 5, 6, 1, 2, 3, 4, 5, 6, 1, 2, 3, 4, 5, 6, 1, 2, 3, 4, 5, 6, 1, 2, 3, 4, 5, 6, 6, 1, 2, 3, 4, 5, 1, 2, 3, 4, 5, 6, 1, 2, 3, 4, 5, 6, 1, 2, 3, 4, 5, 6, 1, 2, 3, 4, 5, 6, 1, 2, 3, 4, 5, 6, 1, 2, 3, 4, 5, 6, 1, 2, 3, 4, 5, 6, 1, 2, 3, 4, 5, 6, 1, 2, 3, 4, 5, 6, 1, 2, 3, 4, 5, 6, 1, 2, 3, 4, 5, 6, 1, 2, 3, 4, 5, 6, 1, 2, 3, 4, 5, 6, 1, 2, 3, 4, 5, 6, 1, 2, 3, 4, 5, 2, 3, 5, 6, 1, 2, 3, 4, 5, 6, 1, 2, 3, 4, 5, 6, 1, 2, 3, 4, 5, 6, 1, 2, 3, 4, 5, 6, 1, 2, 3, 4, 5, 6, 1, 2, 3, 4, 5, 6, 1, 2, 3, 4, 5, 6, 1, 2, 3, 4, 5, 6, 1, 2, 3, 4, 5, 1, 2, 3, 4, 5, 6, 1, 2, 3, 4, 5, 6, 1, 2, 3, 4, 1, 2, 3, 4, 5, 6, 1, 2, 3, 4, 5, 6, 1, 2, 3, 4, 5, 6, 1, 2, 3, 4, 5, 6, 1, 2, 3, 4, 5, 6, 1, 2, 3, 4, 5, 6, 1, 2, 3, 4, 5, 6, 1, 2, 3, 4, 5, 6, 1, 2, 3, 4, 5, 6, 1, 2, 3, 4, 5, 6, 1, 2, 3, 4, 5, 6, 1, 2, 3, 5, 6, 1, 2, 3, 4, 5, 6, 1, 2, 3, 4, 5, 6, 1, 2, 3, 4, 5, 6, 1, 2, 3, 4, 5, 6, 1, 2, 3, 4, 5, 6, 1, 2, 3, 4, 5, 6, 1, 2, 3, 4, 5, 1, 2, 3, 4, 5, 6, 1, 2, 3, 4, 5, 6, 2, 3, 4, 5, 6, 1, 2, 3, 4, 5, 6, 1, 2, 3, 4, 6, 1, 2, 3, 4, 5, 6, 1, 2, 3, 4, 5, 6, 1, 2, 3, 4, 5, 6, 1, 2, 3, 4, 5, 6, 1, 2, 3, 4, 5, 6, 1, 2, 3, 4, 5, 6, 1, 2, 3, 4, 5, 6, 1, 2, 3, 4, 5, 6, 1, 2, 3, 4, 5, 6, 1, 2, 3, 4, 5, 6, 1, 2, 3, 4, 5, 6, 1, 2, 3, 4, 5, 6, 1, 2, 3, 4, 5, 6, 1, 2, 3, 4, 5, 6, 1, 2, 3, 4, 5, 6, 1, 3, 4, 5, 6, 1, 2, 3, 4, 5, 6, 1, 2, 3, 4, 5, 6, 1, 2, 3, 4, 5, 6, 1, 2, 3, 4, 5, 6, 2, 3, 4, 5, 6, 1, 2, 3, 4, 5, 6, 1, 2, 3, 4, 5, 6, 1, 2, 3, 4, 5, 6, 1, 2, 3, 4, 5, 6, 1, 2, 3, 4, 5, 1, 2, 3, 4, 5, 6, 1, 2, 3, 4, 5, 6, 1, 2, 3, 4, 5, 6, 1, 2, 3, 4, 5, 6, 1, 2, 3, 4, 5, 6, 1, 2, 3, 4, 5, 6, 1, 2, 3, 4, 5, 6, 1, 2, 3, 4, 5, 6, 1, 2, 3, 4, 5, 6, 1, 2, 3, 4, 5, 6, 1, 2, 3, 4, 5, 6, 1, 2, 3, 4, 5, 6, 1, 2, 3, 4, 5, 6, 1, 2, 3, 4, 5, 6, 1, 2, 3, 4, 5, 6, 1, 2, 3, 4, 5, 6, 1, 2, 3, 4, 5, 6, 1, 2, 3, 4, 5, 6, 2, 4, 5, 6, 1, 2, 3, 4, 5, 6, 1, 2, 3, 4, 5, 6, 1, 2, 3, 4, 5, 6, 1, 2, 3, 4, 5, 6, 1, 2, 4, 5, 6, 1, 2, 3, 4, 5, 6, 1, 2, 3, 4, 5, 6, 2, 3, 4, 5, 6, 1, 2, 3, 4, 5, 6, 1, 2, 3, 4, 5, 6, 1, 2, 3, 4, 5, 6, 1, 2, 3, 4, 5, 6, 1, 2, 3, 4, 5, 6, 2, 3, 4, 5, 6, 1, 2, 3, 4, 5, 6, 1, 2, 3, 4, 5, 6, 1, 2, 3, 4, 5, 6, 1, 2, 3, 4, 5, 6, 1, 2, 3, 4, 5, 6, 1, 2, 3, 4, 5, 6, 1, 2, 3, 4, 5, 6, 1, 2, 3, 4, 5, 6, 1, 2, 3, 4, 5, 6, 1, 2, 3, 4, 5, 6, 1, 2, 3, 4, 5, 6, 1, 2, 3, 4, 5, 6, 1, 2, 3, 4, 5, 6, 1, 2, 3, 4, 5, 6, 1, 2, 3, 4, 5, 6, 1, 2, 3, 4, 5, 6, 1, 2, 3, 4, 5, 6, 1, 2, 3, 4, 5, 6, 1, 2, 3, 4, 5, 6, 1, 2, 3, 4, 5, 6, 1, 2, 3, 4, 5, 6, 1, 2, 3, 4, 5, 6, 1, 2, 3, 4, 5, 6, 1, 2, 3, 4, 5, 6, 1, 2, 3, 4, 5, 6, 1, 2, 3, 4, 5, 6, 1, 2, 3, 4, 5, 6, 1, 2, 3, 4, 5, 6, 1, 2, 3, 4, 5, 6, 1, 2, 3, 4, 5, 6, 1, 2, 3, 4, 5, 6, 1, 2, 3, 4, 5, 6, 1, 2, 3, 4, 5, 6, 1, 2, 3, 4, 5, 6, 1, 2, 4, 5, 1, 2, 3, 4, 5, 6, 1, 2, 3, 4, 5, 6, 1, 2, 3, 4, 5, 6, 2, 4, 5, 1, 5, 6, 1, 2, 3, 4, 5, 6, 1, 2, 3, 4, 5, 6, 1, 2, 3, 4, 5, 6, 1, 2, 3, 4, 5, 6, 6, 1, 2, 3, 4, 6, 1, 2, 3, 4, 5, 6, 1, 2, 3, 4, 5, 1, 2, 3, 4, 5, 6, 1, 2, 3, 4, 5, 6, 1, 2, 3, 4, 5, 6, 1, 2, 3, 4, 5, 6, 1, 2, 3, 4, 5, 6, 1, 2, 3, 4, 5, 6, 1, 2, 3, 4, 6, 1, 2, 3, 4, 5, 6, 1, 2, 3, 4, 5, 6, 1, 2, 3, 4, 5, 6, 1, 2, 3, 4, 5, 6, 1, 2, 3, 4, 5, 6, 1, 2, 3, 4, 5, 6, 1, 2, 3, 4, 5, 6, 1, 2, 3, 4, 5, 6, 1, 2, 3, 4, 5, 6, 1, 2, 3, 4, 5, 6, 1, 2, 3, 4, 5, 6, 1, 2, 3, 4, 5, 6, 1, 2, 3, 4, 5, 6, 1, 2, 3, 4, 5, 6, 1, 2, 3, 4, 6, 1, 2, 3, 4, 5, 6, 1, 2, 3, 4, 5, 6], \"Freq\": [0.7878880904255128, 0.16414335217198184, 0.11243866457309162, 0.34723705235807706, 0.08928952774921982, 0.21826329005364845, 0.21495627050738106, 0.016535097731337003, 0.09554309424730535, 0.30255313178313364, 0.015923849041217557, 0.047771547123652676, 0.4299439241128741, 0.09554309424730535, 0.10328603939513223, 0.2589036720837981, 0.15837192707253608, 0.16938910460801684, 0.17214339899188705, 0.13771471919350964, 0.04658837483326209, 0.26400079072181853, 0.062117833111016124, 0.496942664888129, 0.09317674966652419, 0.04658837483326209, 0.011237988981552191, 0.14609385676017847, 0.011237988981552191, 0.05618994490776095, 0.022475977963104382, 0.7417072727824445, 0.03584356196443267, 0.03584356196443267, 0.6810276773242208, 0.107530685893298, 0.03584356196443267, 0.107530685893298, 0.07716706884559353, 0.6430589070466128, 0.051444712563729025, 0.051444712563729025, 0.07716706884559353, 0.10288942512745805, 0.04997699189527799, 0.5997239027433359, 0.04997699189527799, 0.04997699189527799, 0.09995398379055598, 0.04997699189527799, 0.19935669582530605, 0.06738817887052599, 0.33694089435262997, 0.16285476560377116, 0.14319988009986773, 0.09265874594697324, 0.10839844179322056, 0.16259766268983084, 0.08129883134491542, 0.08129883134491542, 0.05419922089661028, 0.5419922089661028, 0.06571946315945755, 0.18401449684648116, 0.2847843403576494, 0.09200724842324058, 0.3242160182533239, 0.04819427298360221, 0.21065062054689487, 0.05266265513672372, 0.6319518616406846, 0.05266265513672372, 0.05266265513672372, 0.13224162103958656, 0.6612081051979327, 0.06612081051979328, 0.06612081051979328, 0.03306040525989664, 0.03306040525989664, 0.07246857385564993, 0.024156191285216646, 0.7971543124121493, 0.07246857385564993, 0.024156191285216646, 0.05779391647097562, 0.5726851723033038, 0.031523954438713975, 0.15236577978711754, 0.12084182534840357, 0.06304790887742795, 0.15519023326694828, 0.12843329649678478, 0.2515152056395369, 0.1587578248363034, 0.1765957826830791, 0.13021709228146236, 0.05762115445253642, 0.17286346335760924, 0.06338326989779006, 0.017286346335760927, 0.6684053916494225, 0.017286346335760927, 0.037356204986294224, 0.10584258079450029, 0.12452068328764741, 0.012452068328764741, 0.6973158264108255, 0.018678102493147112, 0.06647293428009152, 0.571667234808787, 0.013294586856018302, 0.09306210799212812, 0.05317834742407321, 0.18612421598425624, 0.5949329438446054, 0.07712093716504144, 0.07712093716504144, 0.033051830213589185, 0.15424187433008288, 0.055086383689315316, 0.09930918092448592, 0.6620612061632395, 0.06620612061632394, 0.06620612061632394, 0.09930918092448592, 0.03310306030816197, 0.16632004718688104, 0.08316002359344052, 0.6652801887475241, 0.04158001179672026, 0.04158001179672026, 0.1418453533482898, 0.6383040900673042, 0.03546133833707245, 0.10638401501121736, 0.10638401501121736, 0.022445339735806022, 0.27682585674160765, 0.022445339735806022, 0.635951292514504, 0.029927119647741363, 0.022445339735806022, 0.024222933261829078, 0.26645226588011983, 0.07266879978548722, 0.048445866523658156, 0.5571274650220688, 0.048445866523658156, 0.14090334101661853, 0.007415965316664133, 0.8009242541997265, 0.05191175721664894, 0.007415965316664133, 0.006348805556173774, 0.31109147225251493, 0.006348805556173774, 0.5396484722747708, 0.13332491667964924, 0.006348805556173774, 0.13314294580442013, 0.12328050537446308, 0.07396830322467784, 0.2317673501039906, 0.40929127784321745, 0.02958732128987114, 0.08588417807159326, 0.07361500977565137, 0.055211257331738525, 0.4171517220620244, 0.2515179500668088, 0.11042251466347705, 0.03297584509120823, 0.23083091563845765, 0.06595169018241646, 0.0989275352736247, 0.4616618312769153, 0.0989275352736247, 0.15871446550742777, 0.20406145565240713, 0.12596386151383157, 0.09321325752023536, 0.13100241597438483, 0.28719760425153595, 0.049182911822840625, 0.049182911822840625, 0.049182911822840625, 0.049182911822840625, 0.14754873546852187, 0.6885607655197687, 0.22808421486779154, 0.057021053716947885, 0.5088032485512273, 0.10088340272998472, 0.0526348188156442, 0.0526348188156442, 0.042375627933227, 0.084751255866454, 0.0635634418998405, 0.27544158156597554, 0.44494409329888357, 0.084751255866454, 0.03369680602280179, 0.06739361204560358, 0.23587764215961254, 0.5559972993762295, 0.05054520903420269, 0.05054520903420269, 0.6302385181271296, 0.04201590120847531, 0.21007950604237655, 0.04201590120847531, 0.04201590120847531, 0.04201590120847531, 0.21895136186137706, 0.05131672543626025, 0.44474495378092216, 0.06500118555259632, 0.07526453063984836, 0.14710794625061271, 0.039491943224786843, 0.029618957418590133, 0.10860284386816382, 0.039491943224786843, 0.0987298580619671, 0.681236020627573, 0.15042483274075144, 0.16296023546914737, 0.19778079860358058, 0.26463627982169236, 0.1685315255706567, 0.054320078489715796, 0.1458821272742427, 0.12764686136496237, 0.12764686136496237, 0.03647053181856068, 0.05470579772784101, 0.5288227113691298, 0.03351766316207888, 0.6703532632415776, 0.06703532632415776, 0.03351766316207888, 0.06703532632415776, 0.13407065264831552, 0.07742953995824572, 0.017868355374979782, 0.4288405289995148, 0.017868355374979782, 0.1072101322498787, 0.35141098904126905, 0.084696824079939, 0.1270452361199085, 0.19056785417986274, 0.084696824079939, 0.4446583264196798, 0.06352261805995425, 0.0756307326482109, 0.589919714656045, 0.06050458611856872, 0.12100917223713745, 0.0756307326482109, 0.0756307326482109, 0.7154846013481165, 0.05962371677900971, 0.11924743355801942, 0.05962371677900971, 0.40164602525127563, 0.007578226891533503, 0.5153194286242782, 0.015156453783067006, 0.022734680674600508, 0.03031290756613401, 0.21860169534532747, 0.12122457650968159, 0.343800848134015, 0.1371228816257054, 0.11526271209117267, 0.06359322046409527, 0.09592070136584818, 0.4373983982282677, 0.061389248874142835, 0.16114677829462493, 0.19184140273169636, 0.04987876471024105, 0.011452645933814802, 0.08016852153670362, 0.022905291867629605, 0.24050556461011086, 0.5955375885583697, 0.04581058373525921, 0.14229240046995967, 0.4426874681287634, 0.05797097796924283, 0.08432142250071685, 0.2002633784392025, 0.07905133359442204, 0.014489890059195877, 0.23183824094713404, 0.7244945029597939, 0.028979780118391755, 0.04240276492656259, 0.21201382463281299, 0.04240276492656259, 0.522967434094272, 0.07067127487760433, 0.12720829477968779, 0.15832715496399455, 0.14143892510116848, 0.21743595948388586, 0.1984367008882065, 0.10977349410836956, 0.17310435609396738, 0.016458771766914883, 0.04937631530074465, 0.016458771766914883, 0.06583508706765953, 0.06583508706765953, 0.7735622730449995, 0.6301526711854483, 0.024236641199440318, 0.19389312959552255, 0.09694656479776127, 0.048473282398880636, 0.060439503499661755, 0.20290404746315016, 0.06907371828532771, 0.35831991360513754, 0.17700140310615228, 0.12951322178498947, 0.3661565792211182, 0.06217753232056725, 0.29361612484712313, 0.15544383080141813, 0.10017491318313612, 0.024180151457998376, 0.26550970356867665, 0.03566548256892672, 0.46761410479259474, 0.12879202038779092, 0.05052610030597952, 0.05151680815511637, 0.18863199582982226, 0.12683875581660464, 0.17237061687897554, 0.17562289266914488, 0.29595709690541083, 0.039027309482032195, 0.052295417684462074, 0.1307385442111552, 0.026147708842231037, 0.627545012213545, 0.1307385442111552, 0.026147708842231037, 0.23756754808246414, 0.03959459134707735, 0.2336080889477564, 0.04355405048178509, 0.0673108052900315, 0.37614861779723485, 0.06389730819252279, 0.12779461638504558, 0.734819044214012, 0.06389730819252279, 0.031948654096261395, 0.049630481565568395, 0.09926096313113679, 0.7940877050490943, 0.623592743371349, 0.03282067070375521, 0.09846201211126562, 0.03282067070375521, 0.09846201211126562, 0.09846201211126562, 0.6873782205036897, 0.015985540011713716, 0.223797560163992, 0.015985540011713716, 0.047956620035141145, 0.015985540011713716, 0.053844537012452065, 0.10768907402490413, 0.053844537012452065, 0.053844537012452065, 0.7538235181743289, 0.011323863107615817, 0.015853408350662145, 0.914968139095358, 0.04529545243046327, 0.004529545243046326, 0.00679431786456949, 0.4177896645362468, 0.058367673721975655, 0.1044474161340617, 0.17203103833845454, 0.19353491813076137, 0.05222370806703085, 0.0796904403980488, 0.5777556928858538, 0.059767830298536606, 0.11953566059707321, 0.1394582706965854, 0.0199226100995122, 0.12920175225192676, 0.07177875125107043, 0.29429288012938876, 0.10192582677652001, 0.11771715205175551, 0.28424385495423893, 0.19059374797112036, 0.1413182911785868, 0.11156707198309485, 0.06879969438957516, 0.2835663079570327, 0.20360990636914808, 0.5166471713745533, 0.09316588336262437, 0.06775700608190863, 0.08469625760238579, 0.13551401216381725, 0.10163550912286294, 0.21551668920282507, 0.10775834460141254, 0.02535490461209707, 0.019016178459072802, 0.6148564368433539, 0.012677452306048534, 0.12346580819252101, 0.12346580819252101, 0.18519871228878151, 0.09259935614439076, 0.4012638766256933, 0.09259935614439076, 0.09808988456012666, 0.1634831409335444, 0.03269662818670888, 0.4577527946139244, 0.09808988456012666, 0.1961797691202533, 0.04693410667529429, 0.5006304712031391, 0.036504305191895556, 0.29203444153516445, 0.11994271705908541, 0.005214900741699366, 0.06143400262551516, 0.5954372562165315, 0.028354155057930073, 0.1937533928958555, 0.09451385019310024, 0.02362846254827506, 0.05313040325354353, 0.48064481082856825, 0.025947406240102656, 0.3014841486945261, 0.11243876037377817, 0.0284185877867791, 0.9194629999692352, 0.06297804976796642, 0.06297804976796642, 0.7287460044578972, 0.10796237103079957, 0.026990592757699893, 0.008996864252566631, 0.04704315675362321, 0.05987310859552044, 0.7313072549881425, 0.10691626534914364, 0.017106602455862985, 0.038489855525691716, 0.08310228741782669, 0.189948085526461, 0.13058930879944194, 0.4748702138161525, 0.059358776727019065, 0.07123053207242287, 0.08051143449648791, 0.040255717248243957, 0.040255717248243957, 0.8051143449648791, 0.020127858624121978, 0.04183106786176876, 0.09411990268897971, 0.606550483995647, 0.08366213572353752, 0.05228883482721095, 0.1150354366198641, 0.06742412777818077, 0.6607564522261715, 0.026969651111272305, 0.06742412777818077, 0.026969651111272305, 0.1483330811119977, 0.03899069465040628, 0.09747673662601569, 0.058486041975609415, 0.07798138930081255, 0.058486041975609415, 0.6628418090569067, 0.1663203018650762, 0.0831601509325381, 0.1663203018650762, 0.41580075466269056, 0.1455302641319417, 0.020790037733134526, 0.10600691577144288, 0.07950518682858215, 0.07950518682858215, 0.07950518682858215, 0.1590103736571643, 0.5300345788572144, 0.16558665727367708, 0.16962535623157163, 0.22010909320525368, 0.20799299633156998, 0.10702552238420592, 0.129238366652626, 0.06547749092935941, 0.20798732412855342, 0.09629042783729326, 0.1771743872206196, 0.27731643217140456, 0.17332277010712785, 0.08984957402583889, 0.5615598376614931, 0.05615598376614931, 0.19093034480490764, 0.07487464502153242, 0.022462393506459722, 0.052119869528988054, 0.18241954335145819, 0.5993784995833626, 0.10423973905797611, 0.026059934764494027, 0.026059934764494027, 0.26142245996225727, 0.07319828878943203, 0.02091379679698058, 0.01045689839849029, 0.5855863103154563, 0.05228449199245145, 0.05317744313313503, 0.1595323293994051, 0.026588721566567514, 0.5051857097647827, 0.07976616469970255, 0.1595323293994051, 0.15435147651234313, 0.1146610968377406, 0.1808117296287448, 0.36603350144355656, 0.1323012655820084, 0.05292050623280336, 0.9603269705267398, 0.047223869649349895, 0.7083580447402484, 0.09444773929869979, 0.09444773929869979, 0.09444773929869979, 0.036758037862766484, 0.07351607572553297, 0.14703215145106593, 0.11027411358829944, 0.036758037862766484, 0.6248866436670302, 0.1338495900570949, 0.1851891588461176, 0.27870051628326614, 0.07700935318353407, 0.2585313999732929, 0.06600801701445777, 0.13384527360421622, 0.05635590467545946, 0.6621818799366486, 0.09862283318205405, 0.021133464253297297, 0.02817795233772973, 0.28600596226743036, 0.04612999391410167, 0.2798552964122168, 0.16299264516315923, 0.07073265733495589, 0.1568419793079457, 0.32319201090267324, 0.26019695793011827, 0.09860095247878167, 0.1259901059451099, 0.14242359802490687, 0.049300476239390836, 0.6315736002007449, 0.025262944008029798, 0.025262944008029798, 0.025262944008029798, 0.050525888016059596, 0.252629440080298, 0.3973071108267494, 0.06128673518072199, 0.31277368299127084, 0.11200679188200915, 0.07396674935604378, 0.044380049613626266, 0.09025095168604635, 0.6317566618023245, 0.09025095168604635, 0.13537642752906953, 0.04512547584302318, 0.04512547584302318, 0.1833824085323304, 0.07859246079957018, 0.13098743466595028, 0.05239497386638011, 0.4977522517306111, 0.07859246079957018, 0.21327654534737484, 0.5097829620498228, 0.11444107311322553, 0.04161493567753655, 0.07282613743568897, 0.04681680263722862, 0.5560226279775194, 0.0966995874743512, 0.0241748968685878, 0.0725246906057634, 0.21757407181729022, 0.0483497937371756, 0.005442576624151059, 0.11429410910717225, 0.07619607273811482, 0.048983189617359535, 0.5769131221600122, 0.1741624519728339, 0.02845341815920122, 0.22762734527360975, 0.05690683631840244, 0.02845341815920122, 0.5548416541044238, 0.09958696355720427, 0.04731386124854579, 0.6150801962310952, 0.04731386124854579, 0.14194158374563737, 0.09462772249709157, 0.04731386124854579, 0.1892303757860552, 0.5676911273581656, 0.0473075939465138, 0.1419227818395414, 0.0473075939465138, 0.02004337244284537, 0.02004337244284537, 0.02004337244284537, 0.9219951323708869, 0.14324291006865136, 0.11459432805492109, 0.11459432805492109, 0.10027003704805595, 0.45837731221968436, 0.057297164027460545, 0.05555782308678738, 0.02777891154339369, 0.02777891154339369, 0.6389149654980549, 0.22223129234714953, 0.02777891154339369, 0.3350572401926525, 0.08282313802515005, 0.22964597361518876, 0.19199909269466603, 0.09788189039335915, 0.0602350094728364, 0.7062722769033787, 0.08648231962082188, 0.04324115981041094, 0.05765487974721458, 0.07206859968401823, 0.02882743987360729, 0.054670715483651204, 0.25773337299435567, 0.031240408847800688, 0.10934143096730241, 0.10153132875535223, 0.4451758260811598, 0.27465578452702855, 0.24910640922218868, 0.06600255287083631, 0.18949120017756232, 0.20226588782998225, 0.0191620314786299, 0.8759439185211194, 0.022460100474900498, 0.022460100474900498, 0.022460100474900498, 0.044920200949800995, 0.022460100474900498, 0.14221898257008106, 0.15092626721722888, 0.16543840829580858, 0.2467063983358549, 0.15092626721722888, 0.14221898257008106, 0.20007609339214905, 0.04001521867842981, 0.08003043735685962, 0.4801826241411577, 0.20007609339214905, 0.13902707775772702, 0.12439264852007154, 0.03658607309413869, 0.10975821928241607, 0.10975821928241607, 0.4829361648426307, 0.7817290607986158, 0.015634581215972318, 0.0938074872958339, 0.015634581215972318, 0.031269162431944636, 0.0938074872958339, 0.0205813002070766, 0.0205813002070766, 0.8849959089042938, 0.0411626004141532, 0.7796264611644428, 0.017559154530730696, 0.010535492718438417, 0.014047323624584556, 0.1439850671519917, 0.03160647815531525, 0.3789360541509435, 0.11674292577377553, 0.11865674422908332, 0.08038037512292741, 0.13205347341623788, 0.17415747943300938, 0.055425599717706324, 0.12316799937268072, 0.1354847993099488, 0.16011839918448495, 0.12932639934131476, 0.38797919802394426, 0.5085906908897049, 0.12519155468054274, 0.1095426103454749, 0.08606919384287313, 0.11736708251300881, 0.05477130517273745, 0.07470484996945198, 0.09130592774044131, 0.6723436497250678, 0.058103772198462654, 0.04980323331296799, 0.04980323331296799, 0.04524183819931623, 0.04524183819931623, 0.3166928673952136, 0.45241838199316226, 0.04524183819931623, 0.04524183819931623, 0.0292219550350325, 0.11688782014013, 0.7305488758758125, 0.0292219550350325, 0.0292219550350325, 0.058443910070065, 0.2410294399576174, 0.08127736928803377, 0.13452805951122832, 0.08127736928803377, 0.22141076461222992, 0.2410294399576174, 0.5501708638501233, 0.08802733821601971, 0.06602050366201478, 0.17605467643203943, 0.022006834554004928, 0.11003417277002464, 0.6992319395425723, 0.11653865659042872, 0.03884621886347624, 0.07769243772695247, 0.03884621886347624, 0.03884621886347624, 0.09200926900246804, 0.09200926900246804, 0.13801390350370207, 0.09200926900246804, 0.04600463450123402, 0.5520556140148083, 0.059286679297140904, 0.1778600378914227, 0.059286679297140904, 0.11857335859428181, 0.5928667929714091, 0.9324536646950546, 0.009815301733632154, 0.009815301733632154, 0.009815301733632154, 0.009815301733632154, 0.019630603467264307, 0.1856482930535493, 0.11772818583883612, 0.31016848961385673, 0.1516882394461927, 0.11546418226501236, 0.1199921894126599, 0.05866625637716497, 0.21510960671627155, 0.18577647852768908, 0.029333128188582486, 0.04888854698097081, 0.4595523416211256, 0.1769069371818196, 0.15970765162247602, 0.17444989638762767, 0.09828163176767755, 0.23587591624242615, 0.15479357003409216, 0.15076992965625166, 0.05244171466304406, 0.11143864365896862, 0.07210735766168558, 0.12454907232472964, 0.4850858606331575, 0.046189291846496935, 0.18475716738598774, 0.09237858369299387, 0.18475716738598774, 0.4157036266184724, 0.09237858369299387, 0.04506501329858151, 0.04506501329858151, 0.7661052260758856, 0.09013002659716302, 0.04506501329858151, 0.0711676537023661, 0.711676537023661, 0.0711676537023661, 0.03558382685118305, 0.0711676537023661, 0.0711676537023661, 0.079690667841407, 0.7083614919236179, 0.044272593245226116, 0.079690667841407, 0.053127111894271335, 0.03541807459618089, 0.7717700371775673, 0.01642063908888441, 0.18062702997772853, 0.01642063908888441, 0.01642063908888441, 0.026954564388676112, 0.6738641097169028, 0.08086369316602834, 0.08086369316602834, 0.053909128777352225, 0.08086369316602834, 0.09619353241151536, 0.09619353241151536, 0.6733547268806076, 0.06412902160767692, 0.03206451080383846, 0.1580975632848512, 0.16667650082744004, 0.05515031277378531, 0.34683418922180537, 0.18751106343087004, 0.08578937542588826, 0.11830569965609725, 0.686173058005364, 0.0473222798624389, 0.07098341979365835, 0.07098341979365835, 0.0473222798624389, 0.11303375500982353, 0.25432594877210296, 0.056516877504911765, 0.028258438752455883, 0.5651687750491177, 0.028258438752455883, 0.06482690301749126, 0.21068743480684662, 0.016206725754372816, 0.6482690301749127, 0.04862017726311845, 0.016206725754372816, 0.0072641820723075455, 0.592030838893065, 0.02542463725307641, 0.3595770125792235, 0.0072641820723075455, 0.0072641820723075455, 0.007518507399116872, 0.2405922367717399, 0.022555522197350616, 0.7142582029161029, 0.007518507399116872, 0.007518507399116872, 0.06916606664863435, 0.18828540365461574, 0.5533285331890748, 0.11143421848946647, 0.01921279629128732, 0.06148094813211943, 0.05904638373572693, 0.14761595933931732, 0.05166558576876106, 0.03690398983482933, 0.6199870292251327, 0.08118877763662453, 0.10387663022684604, 0.12465195627221524, 0.10387663022684604, 0.04155065209073842, 0.06232597813610762, 0.5609338032249687, 0.09094911029629839, 0.14292003046561175, 0.07795638025397005, 0.09094911029629839, 0.11693457038095507, 0.48073101156614867, 0.2770209731631259, 0.1856181139976275, 0.06890369383245264, 0.12655780499838237, 0.24045982949692654, 0.10265244183202127, 0.02670184439054651, 0.13350922195273254, 0.02670184439054651, 0.10680737756218604, 0.05340368878109302, 0.6408442653731162, 0.1757083836851816, 0.14154286463528518, 0.16594680681378263, 0.21719508538862728, 0.10981773980323851, 0.18791035477443033, 0.31824390662159197, 0.015715748475140342, 0.5854116306989778, 0.039289371187850856, 0.007857874237570171, 0.031431496950280684, 0.15934842043621011, 0.08224434603159232, 0.27243439622964954, 0.18761991438456999, 0.1413574697417993, 0.15677828462272286, 0.720807287897439, 0.0675756832403849, 0.0675756832403849, 0.0675756832403849, 0.0675756832403849, 0.5637891439934078, 0.026847102094924184, 0.026847102094924184, 0.026847102094924184, 0.3221652251390902, 0.05369420418984837, 0.7281575177073368, 0.026968796952123585, 0.026968796952123585, 0.026968796952123585, 0.05393759390424717, 0.16181278171274152, 0.12091194016217978, 0.544103730729809, 0.04534197756081742, 0.13602593268245225, 0.09068395512163484, 0.04534197756081742, 0.1033151974651779, 0.15743268185169965, 0.08855588354158105, 0.024598856539328067, 0.5411748438652175, 0.08363611223371543, 0.12367173662881549, 0.061835868314407745, 0.24734347325763098, 0.061835868314407745, 0.49468694651526196, 0.03420249615826453, 0.03420249615826453, 0.017101248079132266, 0.03420249615826453, 0.017101248079132266, 0.8550624039566133, 0.16239929360496505, 0.3319213632452356, 0.03134021455534414, 0.25926904768511966, 0.13248363425668203, 0.08262420200954362, 0.28881065033445186, 0.15120976457301144, 0.03326614820606252, 0.06804439405785515, 0.2676412832942302, 0.1905243033619944, 0.21380841722661495, 0.31069035628242486, 0.11692647817080505, 0.12360799120913676, 0.12026723468997091, 0.11024496513247334, 0.05317935730145413, 0.18612775055508946, 0.026589678650727065, 0.23930710785654358, 0.5052038943638142, 0.16522025416256544, 0.19539746953472353, 0.1440962034020548, 0.1599392414724378, 0.17201012762130102, 0.1629569630096536, 0.4319497038426833, 0.1128517244273677, 0.19846337744123285, 0.07393733669379263, 0.10896028565401018, 0.07393733669379263, 0.02273009423834324, 0.06819028271502972, 0.8523785339378716, 0.03409514135751486, 0.02273009423834324, 0.01136504711917162, 0.8184018826040684, 0.01948575910962068, 0.01948575910962068, 0.01948575910962068, 0.07794303643848272, 0.03897151821924136, 0.03960605498649174, 0.5940908247973761, 0.15842421994596695, 0.15842421994596695, 0.03960605498649174, 0.03960605498649174, 0.05771293149438063, 0.12504468490449136, 0.03847528766292042, 0.06733175341011073, 0.10580704107303116, 0.6156046026067267, 0.017079982538301213, 0.1537198428447109, 0.017079982538301213, 0.7173592666086509, 0.06831993015320485, 0.034159965076602426, 0.010201069418455474, 0.025502673546138683, 0.03060320825536642, 0.03060320825536642, 0.09180962476609926, 0.8160855534764379, 0.08474740583028242, 0.2754290689484179, 0.05296712864392652, 0.05296712864392652, 0.45551730633776805, 0.07415398010149712, 0.0056001086410712745, 0.0028000543205356373, 0.016800325923213823, 0.011200217282142549, 0.03080059752589201, 0.9324180887383672, 0.1470024333588564, 0.26918627407271106, 0.20045786367116783, 0.1011834930911609, 0.17563927102616608, 0.10881998313577682, 0.6929652032943485, 0.030798453479748824, 0.030798453479748824, 0.015399226739874412, 0.18479072087849294, 0.046197680219623234, 0.14261750022522052, 0.12835575020269846, 0.1604446877533731, 0.3315856880236377, 0.10696312516891539, 0.12835575020269846, 0.09895687849466056, 0.22867062462955345, 0.11767845010175851, 0.2460549411218587, 0.21529807348162636, 0.09227060292069701, 0.08466395408144992, 0.2539918622443497, 0.04233197704072496, 0.12699593112217486, 0.42331977040724955, 0.08466395408144992, 0.07893206450969315, 0.21048550535918173, 0.05919904838226986, 0.2795510618051632, 0.2499515376140283, 0.12168693278577693, 0.6204974131688221, 0.04432124379777301, 0.08864248759554602, 0.04432124379777301, 0.13296373139331905, 0.08864248759554602, 0.5456302360389355, 0.25182933971027793, 0.04197155661837965, 0.04197155661837965, 0.0839431132367593, 0.04197155661837965, 0.050470811779121376, 0.7065913649076992, 0.10094162355824275, 0.15141243533736412, 0.1723168605004442, 0.1723168605004442, 0.07290328713480332, 0.046393000903965746, 0.37114400723172597, 0.1656892889427348, 0.01570497228521353, 0.14134475056692178, 0.01570497228521353, 0.738133697405036, 0.06281988914085412, 0.01570497228521353, 0.18502445499224138, 0.12431330569791219, 0.164787405227465, 0.3180107820179149, 0.14744136257194235, 0.05782014218507543, 0.08413657194556307, 0.18510045828023874, 0.5973696608134977, 0.06730925755645045, 0.033654628778225226, 0.033654628778225226, 0.6297926316251298, 0.03498847953472943, 0.13995391813891772, 0.13995391813891772, 0.06997695906945886, 0.8362206851899068, 0.017716539940464127, 0.024803155916649777, 0.007086615976185651, 0.08149608372613498, 0.03188977189283543, 0.10592113273608264, 0.21184226547216528, 0.05296056636804132, 0.45016481412835124, 0.07944084955206199, 0.1324014159201033, 0.016833405845060302, 0.033666811690120604, 0.06733362338024121, 0.016833405845060302, 0.8585036980980754, 0.08339065593542747, 0.6671252474834197, 0.04169532796771373, 0.04169532796771373, 0.1250859839031412, 0.08339065593542747, 0.3382602300394779, 0.0805381500093995, 0.04026907500469975, 0.024161445002819852, 0.4510136400526372, 0.0644305200075196, 0.43743857628699007, 0.06906924888741948, 0.2302308296247316, 0.06446463229492486, 0.10130156503488191, 0.10130156503488191, 0.3398839364779835, 0.20268308138595345, 0.2494561001673273, 0.12160984883157207, 0.07795503130228978, 0.009354603756274775, 0.07421318501205078, 0.2968527400482031, 0.04947545667470052, 0.04947545667470052, 0.4947545667470052, 0.04947545667470052, 0.10156712244368699, 0.05078356122184349, 0.25391780610921744, 0.5078356122184349, 0.05078356122184349, 0.11930698167329264, 0.11228892392780483, 0.3403758006561584, 0.319321627419695, 0.06316251970939021, 0.04912640421841462, 0.15611914600294277, 0.1821390036700999, 0.02601985766715713, 0.15611914600294277, 0.4423375803416712, 0.05203971533431426, 0.08423501698242351, 0.13477602717187764, 0.15162303056836235, 0.07581151528418117, 0.3622105730244211, 0.18531703736133173, 0.09961822179472535, 0.5977093307683521, 0.06641214786315022, 0.06641214786315022, 0.13282429572630045, 0.03320607393157511, 0.1583161330547618, 0.5212254226726004, 0.11203910954644682, 0.08281151575172156, 0.06332645322190472, 0.06332645322190472, 0.01477048766563964, 0.5514315395172132, 0.01477048766563964, 0.4037266628608168, 0.01477048766563964, 0.004923495888546546, 0.01101383768607918, 0.27901722138067253, 0.014685116914772239, 0.6388025857925924, 0.03304151305823754, 0.02202767537215836, 0.06409637705488126, 0.12819275410976252, 0.6409637705488126, 0.09614456558232189, 0.03204818852744063, 0.03204818852744063, 0.07901786741232115, 0.1580357348246423, 0.13169644568720193, 0.07901786741232115, 0.39508933706160576, 0.1843750239620827, 0.092036742319822, 0.16647822507850157, 0.5657552689659647, 0.09745066833863507, 0.031130074608175094, 0.04737185266461427, 0.07699660132997777, 0.10926184379206368, 0.6651039752979984, 0.07406339746978813, 0.030065339566943697, 0.04473135886789184, 0.017343191302943727, 0.017343191302943727, 0.9191891390560175, 0.017343191302943727, 0.017343191302943727, 0.017343191302943727, 0.13301168773310107, 0.3934929095437574, 0.12192738042200932, 0.04987938289991291, 0.21614399256628924, 0.08867445848873405, 0.027868869701563076, 0.09754104395547077, 0.7942627864945477, 0.05573773940312615, 0.027868869701563076, 0.013934434850781538, 0.03056117190282885, 0.0203741146018859, 0.9270222143858085, 0.0203741146018859, 0.01018705730094295, 0.01018705730094295, 0.04363497018903423, 0.08726994037806846, 0.13090491056710268, 0.567254612457445, 0.08726994037806846, 0.13090491056710268, 0.04326396105435173, 0.7138553573968035, 0.06489594158152759, 0.04326396105435173, 0.08652792210870346, 0.04326396105435173, 0.46563759606105387, 0.04532755359886365, 0.1565860942506199, 0.11537922734256202, 0.1277412874149794, 0.0906551071977273, 0.7535675387507202, 0.03675939213418148, 0.05513908820127222, 0.05513908820127222, 0.07351878426836296, 0.03675939213418148, 0.2314664638676897, 0.3975184922945106, 0.06038255579157123, 0.09560571333665445, 0.1912114266733089, 0.02012751859719041, 0.0043344685389920395, 0.0043344685389920395, 0.017337874155968158, 0.0043344685389920395, 0.017337874155968158, 0.9535830785782488, 0.09669914852504027, 0.22563134655842731, 0.06446609901669352, 0.45126269311685463, 0.06446609901669352, 0.09669914852504027, 0.04322838684570354, 0.05763784912760472, 0.634016340403652, 0.20173247194661653, 0.01440946228190118, 0.05763784912760472, 0.10707048321210663, 0.13500191361526487, 0.32586668803684626, 0.10241524481158025, 0.12103619841368575, 0.20948572802368687, 0.03058153298749362, 0.09174459896248086, 0.1529076649374681, 0.4893045277998979, 0.09174459896248086, 0.1529076649374681, 0.06397309680904724, 0.12794619361809448, 0.6717175164949961, 0.06397309680904724, 0.03198654840452362, 0.03198654840452362, 0.8291296362873247, 0.028106089365672025, 0.028106089365672025, 0.04215913404850804, 0.05621217873134405, 0.028106089365672025, 0.07076481660067939, 0.04643941089419585, 0.25209965913992033, 0.33834427937199835, 0.1570094368327574, 0.13489543164504508, 0.9356296280412786, 0.01063215486410544, 0.02126430972821088, 0.01063215486410544, 0.02126430972821088, 0.01063215486410544, 0.1924975689582151, 0.10305425408874141, 0.29944066282389015, 0.1633312706312128, 0.13610939219267734, 0.10499867397720823, 0.1689668300481941, 0.15019273782061698, 0.11264455336546274, 0.4693523056894281, 0.05632227668273137, 0.037548184455154246, 0.16525596433425094, 0.05311798853600923, 0.15640296624491606, 0.3305119286685019, 0.16820696369736254, 0.1239419732506882, 0.11382302579371142, 0.10670908668160446, 0.40549452939009695, 0.28811453404033205, 0.03556969556053482, 0.05335454334080223, 0.03696616699469135, 0.04928822265958847, 0.024644111329794233, 0.8748659522076954, 0.012322055664897117, 0.012322055664897117, 0.049692096631634985, 0.3478446764214449, 0.44722886968471487, 0.14907628989490496, 0.13036795361680267, 0.054319980673667785, 0.04345598453893423, 0.021727992269467113, 0.0760479729431349, 0.6735677603534805, 0.0425316403071982, 0.0850632806143964, 0.1275949209215946, 0.0425316403071982, 0.1701265612287928, 0.5529113239935766, 0.11684328934331242, 0.11770243117671914, 0.5515690570471071, 0.07990019050682394, 0.08419589967385749, 0.04983022633758912, 0.2742159385556615, 0.6032750648224553, 0.0548431877111323, 0.9248160297506427, 0.028900500929707584, 0.028900500929707584, 0.029579500683148543, 0.059159001366297086, 0.25142575580676263, 0.08380858526892086, 0.162687253757317, 0.4141130095640796, 0.18142786802327998, 0.048252092559382974, 0.5404234366650893, 0.02123092072612851, 0.032811422940380426, 0.17370753321377871, 0.03738639631816643, 0.5981823410906629, 0.03738639631816643, 0.03738639631816643, 0.11215918895449929, 0.14954558527266573, 0.25897535577306724, 0.1954530986966545, 0.12215818668540906, 0.14903298775619905, 0.17346462509328087, 0.10016971308203543, 0.9748523314176254, 0.06258205174289999, 0.18774615522869997, 0.6258205174289999, 0.031291025871449996, 0.12516410348579998, 0.08361291110260209, 0.5852903777182147, 0.041806455551301046, 0.08361291110260209, 0.16722582220520418, 0.08361291110260209, 0.04491809204525494, 0.08983618409050988, 0.7336621700724973, 0.10480888143892819, 0.014972697348418313, 0.6844090019776449, 0.07067658819157976, 0.06779182948988263, 0.0259628283152742, 0.1125055893661882, 0.038223052797487014, 0.6667514088607563, 0.027438329582747174, 0.10426565241443926, 0.015548386763556733, 0.1097533183309887, 0.07591271184560051, 0.13774402356410184, 0.21024087807152386, 0.215074001705352, 0.29240397984660216, 0.06524716905667982, 0.07732997814125016, 0.12107841404151463, 0.1896133653857682, 0.4591841740064989, 0.11650941728523106, 0.05025896431911928, 0.06396595458797, 0.26957382840733185, 0.07045679606100719, 0.15776195639747262, 0.19911703234632466, 0.1562302869178855, 0.14704027004036282, 0.06557585162595164, 0.0874344688346022, 0.5901826646335648, 0.06557585162595164, 0.0437172344173011, 0.13115170325190328, 0.01793865478351184, 0.053815964350535525, 0.44846636958779607, 0.48434367915481974, 0.01793865478351184, 0.877379488986398, 0.011296731617850617, 0.015062308823800823, 0.007531154411900411, 0.06024923529520329, 0.02635904044165144, 0.09695340621642057, 0.16839275816536206, 0.09185059536292475, 0.42863611169364885, 0.16328994731186622, 0.045925297681462376, 0.3242818485505873, 0.09120426990485267, 0.07093665437044097, 0.030401423301617558, 0.3850846951538224, 0.10133807767205852, 0.03171487471442139, 0.16650309225071228, 0.6342974942884277, 0.11100206150047486, 0.02378615603581604, 0.03171487471442139, 0.6767861953851247, 0.09952738167428306, 0.039810952669713226, 0.019905476334856613, 0.11943285800913966, 0.05971642900456983, 0.08732438351212932, 0.10840268298057433, 0.12345861117232076, 0.05721252712863645, 0.13851453936406719, 0.4817897021358859, 0.015171562927510214, 0.015171562927510214, 0.09102937756506128, 0.015171562927510214, 0.015171562927510214, 0.849607523940572, 0.1269027583901427, 0.17656035949932897, 0.5076110335605708, 0.06621013481224836, 0.0717276460466024, 0.0551751123435403, 0.010462462408510047, 0.020924924817020095, 0.020924924817020095, 0.010462462408510047, 0.05231231204255024, 0.8893093047233541, 0.0995994851947088, 0.6639965679647253, 0.033199828398236264, 0.13279931359294506, 0.033199828398236264, 0.06639965679647253, 0.14557052069244317, 0.18196315086555395, 0.03639263017311079, 0.10917789051933237, 0.03639263017311079, 0.5094968224235511, 0.1259033679424224, 0.20065849265823574, 0.0708206444676126, 0.3678739032067655, 0.0668861642194119, 0.16721541054852979, 0.24436677542244153, 0.07742313676750623, 0.32420938521393233, 0.16936311167891988, 0.09677892095938279, 0.08710102886344451, 0.16065291568427562, 0.19133942766891254, 0.19133942766891254, 0.1750936272064577, 0.14079693734127527, 0.14079693734127527, 0.07911598455517169, 0.06592998712930974, 0.6856718661448213, 0.15823196911034337, 0.013185997425861948, 0.13599647402414658, 0.13599647402414658, 0.04533215800804886, 0.5439858960965863, 0.04533215800804886, 0.04533215800804886, 0.23386778664075655, 0.09187663046601151, 0.05846694666018914, 0.01670484190291118, 0.4927928361358799, 0.10858147236892268], \"Term\": [\"accession\", \"accession\", \"affair\", \"affair\", \"affair\", \"affair\", \"affair\", \"affair\", \"agreement\", \"agreement\", \"agreement\", \"agreement\", \"agreement\", \"agreement\", \"also\", \"also\", \"also\", \"also\", \"also\", \"also\", \"ambassador\", \"ambassador\", \"ambassador\", \"ambassador\", \"ambassador\", \"ambassador\", \"american\", \"american\", \"american\", \"american\", \"american\", \"american\", \"annexation\", \"annexation\", \"annexation\", \"annexation\", \"annexation\", \"annexation\", \"annual\", \"annual\", \"annual\", \"annual\", \"annual\", \"annual\", \"application\", \"application\", \"application\", \"application\", \"application\", \"application\", \"appointed\", \"appointed\", \"appointed\", \"appointed\", \"appointed\", \"appointed\", \"archived\", \"archived\", \"archived\", \"archived\", \"archived\", \"archived\", \"assembly\", \"assembly\", \"assembly\", \"assembly\", \"assembly\", \"assembly\", \"australia\", \"australia\", \"australia\", \"australia\", \"australia\", \"austria\", \"austria\", \"austria\", \"austria\", \"austria\", \"austria\", \"autonomous\", \"autonomous\", \"autonomous\", \"autonomous\", \"autonomous\", \"award\", \"award\", \"award\", \"award\", \"award\", \"award\", \"became\", \"became\", \"became\", \"became\", \"became\", \"became\", \"belarus\", \"belarus\", \"belarus\", \"belarus\", \"belarus\", \"belarus\", \"belarusian\", \"belarusian\", \"belarusian\", \"belarusian\", \"belarusian\", \"belarusian\", \"best\", \"best\", \"best\", \"best\", \"best\", \"best\", \"bloc\", \"bloc\", \"bloc\", \"bloc\", \"bloc\", \"bloc\", \"border\", \"border\", \"border\", \"border\", \"border\", \"border\", \"boris\", \"boris\", \"boris\", \"boris\", \"boris\", \"brussels\", \"brussels\", \"brussels\", \"brussels\", \"brussels\", \"bucharest\", \"bucharest\", \"bucharest\", \"bucharest\", \"bucharest\", \"bucharest\", \"budapest\", \"budapest\", \"budapest\", \"budapest\", \"budapest\", \"budapest\", \"bulgaria\", \"bulgaria\", \"bulgaria\", \"bulgaria\", \"bulgaria\", \"bulgarian\", \"bulgarian\", \"bulgarian\", \"bulgarian\", \"bulgarian\", \"bulgarian\", \"business\", \"business\", \"business\", \"business\", \"business\", \"business\", \"cabinet\", \"cabinet\", \"cabinet\", \"cabinet\", \"cabinet\", \"cabinet\", \"calling\", \"calling\", \"calling\", \"calling\", \"calling\", \"calling\", \"candidate\", \"candidate\", \"candidate\", \"candidate\", \"candidate\", \"candidate\", \"catholic\", \"catholic\", \"catholic\", \"catholic\", \"catholic\", \"catholic\", \"chairman\", \"chairman\", \"chairman\", \"chairman\", \"chairman\", \"chairman\", \"chairperson\", \"chairperson\", \"chairperson\", \"chairperson\", \"chairperson\", \"chairperson\", \"chamber\", \"chamber\", \"chamber\", \"chamber\", \"chamber\", \"chamber\", \"charitable\", \"charitable\", \"charitable\", \"charitable\", \"charitable\", \"charitable\", \"city\", \"city\", \"city\", \"city\", \"city\", \"city\", \"civic\", \"civic\", \"civic\", \"civic\", \"civic\", \"civic\", \"committee\", \"committee\", \"committee\", \"committee\", \"committee\", \"committee\", \"competition\", \"competition\", \"competition\", \"competition\", \"competition\", \"competition\", \"conservative\", \"conservative\", \"conservative\", \"conservative\", \"conservative\", \"conservative\", \"constituency\", \"constituency\", \"constituency\", \"constituency\", \"constituency\", \"constituency\", \"constitution\", \"constitution\", \"constitution\", \"constitution\", \"constitution\", \"constitution\", \"constitutional\", \"constitutional\", \"constitutional\", \"constitutional\", \"constitutional\", \"constitutional\", \"consulting\", \"consulting\", \"consulting\", \"consulting\", \"convocation\", \"convocation\", \"convocation\", \"convocation\", \"convocation\", \"convocation\", \"council\", \"council\", \"council\", \"council\", \"council\", \"council\", \"country\", \"country\", \"country\", \"country\", \"country\", \"country\", \"county\", \"county\", \"county\", \"county\", \"county\", \"county\", \"court\", \"court\", \"court\", \"court\", \"court\", \"court\", \"czech\", \"czech\", \"czech\", \"czech\", \"de\", \"de\", \"de\", \"de\", \"de\", \"de\", \"december\", \"december\", \"december\", \"december\", \"december\", \"december\", \"declaration\", \"declaration\", \"declaration\", \"declaration\", \"declaration\", \"declaration\", \"democrat\", \"democrat\", \"democrat\", \"democrat\", \"democrat\", \"democratic\", \"democratic\", \"democratic\", \"democratic\", \"democratic\", \"democratic\", \"department\", \"department\", \"department\", \"department\", \"department\", \"department\", \"deputy\", \"deputy\", \"deputy\", \"deputy\", \"deputy\", \"deputy\", \"development\", \"development\", \"development\", \"development\", \"development\", \"development\", \"digital\", \"digital\", \"digital\", \"digital\", \"digital\", \"digital\", \"district\", \"district\", \"district\", \"district\", \"district\", \"district\", \"dmitry\", \"dmitry\", \"dmitry\", \"dmitry\", \"dmitry\", \"donald\", \"donald\", \"donald\", \"donbas\", \"donbas\", \"donbas\", \"donbas\", \"donbas\", \"donbas\", \"donetsk\", \"donetsk\", \"donetsk\", \"donetsk\", \"donetsk\", \"donetsk\", \"dr\", \"dr\", \"dr\", \"dr\", \"dr\", \"duma\", \"duma\", \"duma\", \"duma\", \"duma\", \"duma\", \"education\", \"education\", \"education\", \"education\", \"education\", \"education\", \"effort\", \"effort\", \"effort\", \"effort\", \"effort\", \"effort\", \"elected\", \"elected\", \"elected\", \"elected\", \"elected\", \"elected\", \"election\", \"election\", \"election\", \"election\", \"election\", \"election\", \"electoral\", \"electoral\", \"electoral\", \"electoral\", \"electoral\", \"electoral\", \"energy\", \"energy\", \"energy\", \"energy\", \"energy\", \"energy\", \"environmental\", \"environmental\", \"environmental\", \"environmental\", \"environmental\", \"environmental\", \"equality\", \"equality\", \"equality\", \"equality\", \"equality\", \"equality\", \"eu\", \"eu\", \"eu\", \"eu\", \"eu\", \"eu\", \"europe\", \"europe\", \"europe\", \"europe\", \"europe\", \"europe\", \"european\", \"european\", \"european\", \"european\", \"european\", \"european\", \"ewa\", \"federal\", \"federal\", \"federal\", \"federal\", \"federal\", \"federal\", \"federation\", \"federation\", \"federation\", \"federation\", \"federation\", \"federation\", \"female\", \"female\", \"female\", \"female\", \"female\", \"female\", \"fidesz\", \"fidesz\", \"fidesz\", \"fidesz\", \"fidesz\", \"figure\", \"figure\", \"figure\", \"figure\", \"figure\", \"figure\", \"film\", \"film\", \"film\", \"film\", \"film\", \"film\", \"final\", \"final\", \"final\", \"final\", \"final\", \"final\", \"finance\", \"finance\", \"finance\", \"finance\", \"finance\", \"finance\", \"finished\", \"finished\", \"finished\", \"finished\", \"finished\", \"finished\", \"first\", \"first\", \"first\", \"first\", \"first\", \"first\", \"following\", \"following\", \"following\", \"following\", \"following\", \"following\", \"foreign\", \"foreign\", \"foreign\", \"foreign\", \"foreign\", \"foreign\", \"friendship\", \"friendship\", \"friendship\", \"friendship\", \"friendship\", \"friendship\", \"gas\", \"gas\", \"gas\", \"gas\", \"gas\", \"gas\", \"gender\", \"gender\", \"gender\", \"gender\", \"gender\", \"gender\", \"general\", \"general\", \"general\", \"general\", \"general\", \"general\", \"getting\", \"goal\", \"goal\", \"goal\", \"goal\", \"goal\", \"gold\", \"gold\", \"gold\", \"gold\", \"gold\", \"gold\", \"government\", \"government\", \"government\", \"government\", \"government\", \"government\", \"governor\", \"governor\", \"governor\", \"governor\", \"governor\", \"governor\", \"graduated\", \"graduated\", \"graduated\", \"graduated\", \"graduated\", \"graduated\", \"group\", \"group\", \"group\", \"group\", \"group\", \"group\", \"hanna\", \"hanna\", \"hanna\", \"hanna\", \"hanna\", \"hanna\", \"head\", \"head\", \"head\", \"head\", \"head\", \"head\", \"hosted\", \"hosted\", \"hosted\", \"hosted\", \"hosted\", \"hosted\", \"housing\", \"housing\", \"housing\", \"housing\", \"housing\", \"housing\", \"human\", \"human\", \"human\", \"human\", \"human\", \"human\", \"humanitarian\", \"humanitarian\", \"humanitarian\", \"humanitarian\", \"humanitarian\", \"humanitarian\", \"hungarian\", \"hungarian\", \"hungarian\", \"hungarian\", \"hungarian\", \"hungarian\", \"hungary\", \"hungary\", \"hungary\", \"hungary\", \"hungary\", \"hungary\", \"image\", \"image\", \"image\", \"image\", \"image\", \"image\", \"impact\", \"impact\", \"impact\", \"impact\", \"impact\", \"includes\", \"includes\", \"includes\", \"includes\", \"industry\", \"industry\", \"industry\", \"industry\", \"industry\", \"industry\", \"innovation\", \"innovation\", \"innovation\", \"innovation\", \"innovation\", \"innovation\", \"institute\", \"institute\", \"institute\", \"institute\", \"institute\", \"institute\", \"inter\", \"inter\", \"inter\", \"inter\", \"inter\", \"inter\", \"interest\", \"interest\", \"interest\", \"interest\", \"interest\", \"interest\", \"international\", \"international\", \"international\", \"international\", \"international\", \"international\", \"iryna\", \"iryna\", \"iryna\", \"iryna\", \"iryna\", \"iryna\", \"january\", \"january\", \"january\", \"january\", \"january\", \"january\", \"jurist\", \"jurist\", \"jurist\", \"jurist\", \"jurist\", \"justice\", \"justice\", \"justice\", \"justice\", \"justice\", \"justice\", \"kharkiv\", \"kharkiv\", \"kharkiv\", \"kharkiv\", \"kharkiv\", \"kharkiv\", \"krai\", \"krai\", \"krai\", \"krai\", \"kyiv\", \"kyiv\", \"kyiv\", \"kyiv\", \"kyiv\", \"kyiv\", \"law\", \"law\", \"law\", \"law\", \"law\", \"law\", \"left\", \"left\", \"left\", \"left\", \"left\", \"left\", \"legal\", \"legal\", \"legal\", \"legal\", \"legal\", \"legal\", \"legislative\", \"legislative\", \"legislative\", \"legislative\", \"legislative\", \"legislative\", \"legislature\", \"legislature\", \"legislature\", \"legislature\", \"legislature\", \"legislature\", \"leningrad\", \"leningrad\", \"leningrad\", \"leningrad\", \"leningrad\", \"leningrad\", \"list\", \"list\", \"list\", \"list\", \"list\", \"list\", \"literature\", \"literature\", \"literature\", \"literature\", \"literature\", \"literature\", \"located\", \"located\", \"located\", \"located\", \"located\", \"located\", \"losing\", \"losing\", \"losing\", \"losing\", \"losing\", \"losing\", \"lower\", \"lower\", \"lower\", \"lower\", \"lower\", \"lviv\", \"lviv\", \"lviv\", \"lviv\", \"lviv\", \"lviv\", \"march\", \"march\", \"march\", \"march\", \"march\", \"march\", \"maria\", \"maria\", \"maria\", \"maria\", \"maria\", \"maria\", \"may\", \"may\", \"may\", \"may\", \"may\", \"may\", \"mayor\", \"mayor\", \"mayor\", \"mayor\", \"mayor\", \"mayor\", \"meant\", \"meant\", \"meant\", \"meant\", \"meant\", \"meant\", \"medvedev\", \"medvedev\", \"medvedev\", \"medvedev\", \"medvedev\", \"meet\", \"meet\", \"meet\", \"meet\", \"meet\", \"meet\", \"meeting\", \"meeting\", \"meeting\", \"meeting\", \"meeting\", \"meeting\", \"mep\", \"mep\", \"mep\", \"mep\", \"mep\", \"met\", \"met\", \"met\", \"met\", \"met\", \"met\", \"mikhail\", \"mikhail\", \"mikhail\", \"mikhail\", \"mikhail\", \"minister\", \"minister\", \"minister\", \"minister\", \"minister\", \"minister\", \"minority\", \"minority\", \"minority\", \"minority\", \"minority\", \"minority\", \"minsk\", \"minsk\", \"minsk\", \"minsk\", \"minsk\", \"minsk\", \"mission\", \"mission\", \"mission\", \"mission\", \"mission\", \"mission\", \"moldova\", \"moldova\", \"moldova\", \"moldova\", \"moldova\", \"moldova\", \"moldovan\", \"moldovan\", \"moldovan\", \"moldovan\", \"moldovan\", \"moldovan\", \"moscow\", \"moscow\", \"moscow\", \"moscow\", \"moscow\", \"moscow\", \"mp\", \"mp\", \"mp\", \"mp\", \"mp\", \"mp\", \"music\", \"music\", \"music\", \"music\", \"music\", \"music\", \"name\", \"name\", \"name\", \"name\", \"name\", \"name\", \"national\", \"national\", \"national\", \"national\", \"national\", \"national\", \"near\", \"near\", \"near\", \"near\", \"near\", \"near\", \"november\", \"november\", \"november\", \"november\", \"november\", \"november\", \"oblast\", \"oblast\", \"oblast\", \"oblast\", \"oblast\", \"oblast\", \"october\", \"october\", \"october\", \"october\", \"october\", \"october\", \"odesa\", \"odesa\", \"odesa\", \"odesa\", \"odesa\", \"oleksandr\", \"oleksandr\", \"oleksandr\", \"oleksandr\", \"oleksandr\", \"oleksandr\", \"olena\", \"olena\", \"olena\", \"olena\", \"olena\", \"olena\", \"open\", \"open\", \"open\", \"open\", \"open\", \"open\", \"opposition\", \"opposition\", \"opposition\", \"opposition\", \"opposition\", \"opposition\", \"originally\", \"originally\", \"originally\", \"originally\", \"originally\", \"page\", \"page\", \"page\", \"page\", \"page\", \"page\", \"parliament\", \"parliament\", \"parliament\", \"parliament\", \"parliament\", \"parliament\", \"parliamentary\", \"parliamentary\", \"parliamentary\", \"parliamentary\", \"parliamentary\", \"parliamentary\", \"part\", \"part\", \"part\", \"part\", \"part\", \"part\", \"partnership\", \"partnership\", \"partnership\", \"partnership\", \"partnership\", \"party\", \"party\", \"party\", \"party\", \"party\", \"party\", \"people\", \"people\", \"people\", \"people\", \"people\", \"people\", \"petersburg\", \"petersburg\", \"petersburg\", \"petersburg\", \"petersburg\", \"petersburg\", \"petro\", \"petro\", \"petro\", \"petro\", \"petro\", \"petro\", \"photo\", \"photo\", \"photo\", \"photo\", \"photo\", \"photo\", \"platform\", \"platform\", \"platform\", \"platform\", \"platform\", \"platform\", \"pnl\", \"pnl\", \"pnl\", \"pnl\", \"pnl\", \"pnl\", \"poland\", \"poland\", \"poland\", \"poland\", \"poland\", \"poland\", \"police\", \"police\", \"police\", \"police\", \"police\", \"police\", \"polish\", \"polish\", \"polish\", \"polish\", \"polish\", \"polish\", \"political\", \"political\", \"political\", \"political\", \"political\", \"political\", \"poroshenko\", \"poroshenko\", \"poroshenko\", \"poroshenko\", \"poroshenko\", \"poroshenko\", \"position\", \"position\", \"position\", \"position\", \"position\", \"position\", \"president\", \"president\", \"president\", \"president\", \"president\", \"president\", \"pressure\", \"pressure\", \"pressure\", \"pressure\", \"pressure\", \"pressure\", \"prime\", \"prime\", \"prime\", \"prime\", \"prime\", \"prime\", \"procedure\", \"procedure\", \"procedure\", \"procedure\", \"procedure\", \"procedure\", \"produced\", \"produced\", \"produced\", \"produced\", \"produced\", \"produced\", \"pronunciation\", \"pronunciation\", \"pronunciation\", \"pronunciation\", \"protest\", \"protest\", \"protest\", \"protest\", \"protest\", \"protest\", \"psd\", \"psd\", \"psd\", \"psd\", \"psd\", \"psd\", \"public\", \"public\", \"public\", \"public\", \"public\", \"public\", \"putin\", \"putin\", \"putin\", \"putin\", \"putin\", \"putin\", \"qualification\", \"qualification\", \"qualification\", \"qualification\", \"qualification\", \"rada\", \"rada\", \"rada\", \"rada\", \"rada\", \"rada\", \"rank\", \"rank\", \"rank\", \"rank\", \"rank\", \"rank\", \"record\", \"record\", \"record\", \"record\", \"record\", \"referred\", \"referred\", \"referred\", \"referred\", \"referred\", \"referred\", \"reform\", \"reform\", \"reform\", \"reform\", \"reform\", \"reform\", \"region\", \"region\", \"region\", \"region\", \"region\", \"region\", \"relation\", \"relation\", \"relation\", \"relation\", \"relation\", \"relation\", \"release\", \"release\", \"release\", \"release\", \"release\", \"release\", \"replacing\", \"replacing\", \"replacing\", \"replacing\", \"replacing\", \"republic\", \"republic\", \"republic\", \"republic\", \"republic\", \"republic\", \"resolution\", \"resolution\", \"resolution\", \"resolution\", \"resolution\", \"resolution\", \"result\", \"result\", \"result\", \"result\", \"result\", \"result\", \"review\", \"review\", \"review\", \"review\", \"review\", \"review\", \"right\", \"right\", \"right\", \"right\", \"right\", \"right\", \"romania\", \"romania\", \"romania\", \"romania\", \"romania\", \"romania\", \"romanian\", \"romanian\", \"romanian\", \"romanian\", \"romanian\", \"romanian\", \"ruble\", \"ruble\", \"ruble\", \"ruble\", \"ruble\", \"ruble\", \"ruling\", \"ruling\", \"ruling\", \"ruling\", \"ruling\", \"ruling\", \"russia\", \"russia\", \"russia\", \"russia\", \"russia\", \"russia\", \"russian\", \"russian\", \"russian\", \"russian\", \"russian\", \"russian\", \"russo\", \"russo\", \"russo\", \"russo\", \"russo\", \"russo\", \"said\", \"said\", \"said\", \"said\", \"said\", \"said\", \"saint\", \"saint\", \"saint\", \"saint\", \"saint\", \"saint\", \"sanctioned\", \"sanctioned\", \"sanctioned\", \"sanctioned\", \"sanctioned\", \"sanctioned\", \"sat\", \"sat\", \"sat\", \"sat\", \"sat\", \"sat\", \"saying\", \"saying\", \"saying\", \"saying\", \"saying\", \"saying\", \"science\", \"science\", \"science\", \"science\", \"science\", \"science\", \"scientific\", \"scientific\", \"scientific\", \"scientific\", \"scientific\", \"scientific\", \"security\", \"security\", \"security\", \"security\", \"security\", \"security\", \"sejm\", \"sejm\", \"sejm\", \"sejm\", \"sejm\", \"sejm\", \"selected\", \"selected\", \"selected\", \"selected\", \"selected\", \"selected\", \"senator\", \"senator\", \"senator\", \"senator\", \"senator\", \"senator\", \"september\", \"september\", \"september\", \"september\", \"september\", \"september\", \"serf\", \"serf\", \"serf\", \"serf\", \"serf\", \"serf\", \"sergey\", \"sergey\", \"sergey\", \"sergey\", \"sergey\", \"sergey\", \"servant\", \"servant\", \"servant\", \"servant\", \"servant\", \"servant\", \"served\", \"served\", \"served\", \"served\", \"served\", \"served\", \"shevchenko\", \"shevchenko\", \"shevchenko\", \"shevchenko\", \"shevchenko\", \"shevchenko\", \"since\", \"since\", \"since\", \"since\", \"since\", \"since\", \"site\", \"site\", \"site\", \"site\", \"site\", \"site\", \"social\", \"social\", \"social\", \"social\", \"social\", \"social\", \"soviet\", \"soviet\", \"soviet\", \"soviet\", \"soviet\", \"soviet\", \"space\", \"space\", \"space\", \"space\", \"space\", \"space\", \"speaks\", \"speaks\", \"speaks\", \"speaks\", \"speech\", \"speech\", \"speech\", \"speech\", \"speech\", \"speech\", \"spokesperson\", \"spokesperson\", \"spokesperson\", \"spokesperson\", \"spokesperson\", \"spokesperson\", \"state\", \"state\", \"state\", \"state\", \"state\", \"state\", \"substitute\", \"substitute\", \"substitute\", \"tara\", \"tara\", \"tara\", \"term\", \"term\", \"term\", \"term\", \"term\", \"term\", \"th\", \"th\", \"th\", \"th\", \"th\", \"th\", \"though\", \"though\", \"though\", \"though\", \"though\", \"though\", \"time\", \"time\", \"time\", \"time\", \"time\", \"time\", \"transcript\", \"treasury\", \"treasury\", \"treasury\", \"treasury\", \"treasury\", \"trying\", \"trying\", \"trying\", \"trying\", \"trying\", \"trying\", \"uk\", \"uk\", \"uk\", \"uk\", \"uk\", \"ukraine\", \"ukraine\", \"ukraine\", \"ukraine\", \"ukraine\", \"ukraine\", \"ukrainian\", \"ukrainian\", \"ukrainian\", \"ukrainian\", \"ukrainian\", \"ukrainian\", \"union\", \"union\", \"union\", \"union\", \"union\", \"union\", \"united\", \"united\", \"united\", \"united\", \"united\", \"united\", \"university\", \"university\", \"university\", \"university\", \"university\", \"university\", \"ussr\", \"ussr\", \"ussr\", \"ussr\", \"ussr\", \"ussr\", \"valentina\", \"valentina\", \"valentina\", \"valentina\", \"valentina\", \"verkhovna\", \"verkhovna\", \"verkhovna\", \"verkhovna\", \"verkhovna\", \"verkhovna\", \"vice\", \"vice\", \"vice\", \"vice\", \"vice\", \"vice\", \"viktor\", \"viktor\", \"viktor\", \"viktor\", \"viktor\", \"viktor\", \"vladimir\", \"vladimir\", \"vladimir\", \"vladimir\", \"vladimir\", \"vladimir\", \"volodymyr\", \"volodymyr\", \"volodymyr\", \"volodymyr\", \"volodymyr\", \"volodymyr\", \"vote\", \"vote\", \"vote\", \"vote\", \"vote\", \"vote\", \"voting\", \"voting\", \"voting\", \"voting\", \"voting\", \"voting\", \"war\", \"war\", \"war\", \"war\", \"war\", \"war\", \"warsaw\", \"warsaw\", \"warsaw\", \"warsaw\", \"warsaw\", \"warsaw\", \"washington\", \"washington\", \"washington\", \"washington\", \"washington\", \"washington\", \"wayback\", \"wayback\", \"wayback\", \"wayback\", \"wayback\", \"wayback\", \"woman\", \"woman\", \"woman\", \"woman\", \"woman\", \"woman\", \"worked\", \"worked\", \"worked\", \"worked\", \"worked\", \"worked\", \"year\", \"year\", \"year\", \"year\", \"year\", \"year\", \"yelena\", \"yelena\", \"yelena\", \"yelena\", \"yelena\", \"youngest\", \"youngest\", \"youngest\", \"youngest\", \"youngest\", \"youngest\", \"yulia\", \"yulia\", \"yulia\", \"yulia\", \"yulia\", \"yulia\"]}, \"R\": 30, \"lambda.step\": 0.01, \"plot.opts\": {\"xlab\": \"PC1\", \"ylab\": \"PC2\"}, \"topic.order\": [5, 2, 3, 4, 6, 1]};\n",
       "\n",
       "function LDAvis_load_lib(url, callback){\n",
       "  var s = document.createElement('script');\n",
       "  s.src = url;\n",
       "  s.async = true;\n",
       "  s.onreadystatechange = s.onload = callback;\n",
       "  s.onerror = function(){console.warn(\"failed to load library \" + url);};\n",
       "  document.getElementsByTagName(\"head\")[0].appendChild(s);\n",
       "}\n",
       "\n",
       "if(typeof(LDAvis) !== \"undefined\"){\n",
       "   // already loaded: just create the visualization\n",
       "   !function(LDAvis){\n",
       "       new LDAvis(\"#\" + \"ldavis_el99472108469907684575233844\", ldavis_el99472108469907684575233844_data);\n",
       "   }(LDAvis);\n",
       "}else if(typeof define === \"function\" && define.amd){\n",
       "   // require.js is available: use it to load d3/LDAvis\n",
       "   require.config({paths: {d3: \"https://d3js.org/d3.v5\"}});\n",
       "   require([\"d3\"], function(d3){\n",
       "      window.d3 = d3;\n",
       "      LDAvis_load_lib(\"https://cdn.jsdelivr.net/gh/bmabey/pyLDAvis@3.4.0/pyLDAvis/js/ldavis.v3.0.0.js\", function(){\n",
       "        new LDAvis(\"#\" + \"ldavis_el99472108469907684575233844\", ldavis_el99472108469907684575233844_data);\n",
       "      });\n",
       "    });\n",
       "}else{\n",
       "    // require.js not available: dynamically load d3 & LDAvis\n",
       "    LDAvis_load_lib(\"https://d3js.org/d3.v5.js\", function(){\n",
       "         LDAvis_load_lib(\"https://cdn.jsdelivr.net/gh/bmabey/pyLDAvis@3.4.0/pyLDAvis/js/ldavis.v3.0.0.js\", function(){\n",
       "                 new LDAvis(\"#\" + \"ldavis_el99472108469907684575233844\", ldavis_el99472108469907684575233844_data);\n",
       "            })\n",
       "         });\n",
       "}\n",
       "</script>"
      ],
      "text/plain": [
       "PreparedData(topic_coordinates=              x         y  topics  cluster       Freq\n",
       "topic                                                \n",
       "4     -0.033108  0.025249       1        1  19.506915\n",
       "1      0.063437  0.030572       2        1  19.242953\n",
       "2     -0.099886  0.007987       3        1  18.240365\n",
       "3      0.021476  0.033427       4        1  15.853202\n",
       "5      0.036688  0.003327       5        1  14.945560\n",
       "0      0.011392 -0.100563       6        1  12.211005, topic_info=           Term         Freq        Total Category  logprob  loglift\n",
       "969     russian  1363.000000  1363.000000  Default  30.0000  30.0000\n",
       "1079    ukraine  1386.000000  1386.000000  Default  29.0000  29.0000\n",
       "679      polish   357.000000   357.000000  Default  28.0000  28.0000\n",
       "747   ukrainian  1093.000000  1093.000000  Default  27.0000  27.0000\n",
       "1310       duma   441.000000   441.000000  Default  26.0000  26.0000\n",
       "...         ...          ...          ...      ...      ...      ...\n",
       "747   ukrainian    82.949813  1093.361019   Topic6  -5.1245  -0.4759\n",
       "137      became    73.280092   560.602289   Topic6  -5.2484   0.0681\n",
       "78     national    72.515217   711.137492   Topic6  -5.2589  -0.1802\n",
       "75     minister    69.669938   815.951855   Topic6  -5.2990  -0.3578\n",
       "89    president    69.165116   747.800467   Topic6  -5.3062  -0.2778\n",
       "\n",
       "[397 rows x 6 columns], token_table=      Topic      Freq       Term\n",
       "term                            \n",
       "1110      2  0.787888  accession\n",
       "1110      4  0.164143  accession\n",
       "184       1  0.112439     affair\n",
       "184       2  0.347237     affair\n",
       "184       3  0.089290     affair\n",
       "...     ...       ...        ...\n",
       "1319      2  0.091877      yulia\n",
       "1319      3  0.058467      yulia\n",
       "1319      4  0.016705      yulia\n",
       "1319      5  0.492793      yulia\n",
       "1319      6  0.108581      yulia\n",
       "\n",
       "[1620 rows x 3 columns], R=30, lambda_step=0.01, plot_opts={'xlab': 'PC1', 'ylab': 'PC2'}, topic_order=[5, 2, 3, 4, 6, 1])"
      ]
     },
     "execution_count": 220,
     "metadata": {},
     "output_type": "execute_result"
    }
   ],
   "source": [
    "#Creating Topic Distance Visualization \n",
    "pyLDAvis.enable_notebook()\n",
    "pyLDAvis.gensim.prepare(lda_model, corpus, dictionary)"
   ]
  },
  {
   "cell_type": "markdown",
   "id": "d7ef934c",
   "metadata": {},
   "source": [
    "## Test for different types of stemming"
   ]
  },
  {
   "cell_type": "code",
   "execution_count": 79,
   "id": "62b3fc49",
   "metadata": {},
   "outputs": [],
   "source": [
    "# pip install pattern\n",
    "# from gensim.utils import lemmatize"
   ]
  },
  {
   "cell_type": "code",
   "execution_count": 94,
   "id": "e24f0ffd",
   "metadata": {},
   "outputs": [],
   "source": [
    "from nltk.stem.snowball import SnowballStemmer\n",
    "from nltk.stem import PorterStemmer"
   ]
  },
  {
   "cell_type": "code",
   "execution_count": 101,
   "id": "371356a1",
   "metadata": {},
   "outputs": [
    {
     "name": "stdout",
     "output_type": "stream",
     "text": [
      "--Word--            --Stem SB--         --Stem Porter--     \n",
      "sylvia              sylvia              sylvia              \n",
      "acevedo             acevedo             acevedo             \n",
      "born                born                born                \n",
      "american            american            american            \n",
      "engineer            engin               engin               \n",
      "businesswoman       businesswoman       businesswoman       \n",
      "chief               chief               chief               \n",
      "executive           execut              execut              \n",
      "officer             offic               offic               \n",
      "ceo                 ceo                 ceo                 \n",
      "girl                girl                girl                \n",
      "scout               scout               scout               \n",
      "usa                 usa                 usa                 \n",
      "system              system              system              \n",
      "engineer            engin               engin               \n",
      "education           educ                educ                \n",
      "began               began               began               \n",
      "career              career              career              \n",
      "nasa                nasa                nasa                \n",
      "jet                 jet                 jet                 \n",
      "propulsion          propuls             propuls             \n",
      "laboratory          laboratori          laboratori          \n",
      "voyager             voyag               voyag               \n",
      "team                team                team                \n",
      "held                held                held                \n",
      "executive           execut              execut              \n",
      "role                role                role                \n",
      "apple               appl                appl                \n",
      "dell                dell                dell                \n",
      "autodesk            autodesk            autodesk            \n"
     ]
    }
   ],
   "source": [
    "# Initialize stemmers\n",
    "stemmer = SnowballStemmer(\"english\")\n",
    "ps = PorterStemmer()\n",
    "\n",
    "# Compare results of Snowball and Porter stemmers\n",
    "print(\"{0:20}{1:20}{2:20}\".format(\"--Word--\",\"--Stem SB--\", \"--Stem Porter--\"))\n",
    "for word in doc_out[:30]:\n",
    "    print(\"{0:20}{1:20}{2:20}\".format(word, stemmer.stem(word) , ps.stem(word)))"
   ]
  }
 ],
 "metadata": {
  "kernelspec": {
   "display_name": "Python 3 (ipykernel)",
   "language": "python",
   "name": "python3"
  },
  "language_info": {
   "codemirror_mode": {
    "name": "ipython",
    "version": 3
   },
   "file_extension": ".py",
   "mimetype": "text/x-python",
   "name": "python",
   "nbconvert_exporter": "python",
   "pygments_lexer": "ipython3",
   "version": "3.11.5"
  }
 },
 "nbformat": 4,
 "nbformat_minor": 5
}
